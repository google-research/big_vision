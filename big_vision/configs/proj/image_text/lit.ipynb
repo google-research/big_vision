{
  "cells": [
    {
      "cell_type": "markdown",
      "source": [
        "This Colab shows some example code how to make use of the\n",
        "[LiT: Zero-Shot Transfer with Locked-image text Tuning](https://arxiv.org/abs/2111.07991)\n",
        "models in the `big_vision` codebase.\n",
        "\n",
        "For more information refer to\n",
        "\n",
        "https://github.com/google-research/big_vision/blob/main/README.md\n",
        "\n",
        "https://github.com/google-research/big_vision/blob/main/big_vision/configs/proj/image_text/README.md"
      ],
      "metadata": {
        "id": "3OCq_g6vBiWX"
      }
    },
    {
      "cell_type": "markdown",
      "source": [
        "### Initialize"
      ],
      "metadata": {
        "id": "hg1hy3ER9LHT"
      }
    },
    {
      "cell_type": "code",
      "execution_count": 1,
      "metadata": {
        "id": "i0ws1pPjl6nY",
        "colab": {
          "base_uri": "https://localhost:8080/"
        },
        "outputId": "175aa7e3-4c88-47aa-f0c9-6b3a36b87478"
      },
      "outputs": [
        {
          "output_type": "stream",
          "name": "stdout",
          "text": [
            "fatal: destination path 'big_vision' already exists and is not an empty directory.\n",
            "Already up to date.\n"
          ]
        }
      ],
      "source": [
        "!git clone --branch=main --depth=1 https://github.com/google-research/big_vision\n",
        "!cd big_vision \u0026\u0026 git pull"
      ]
    },
    {
      "cell_type": "code",
      "execution_count": 2,
      "metadata": {
        "id": "xa2C2eTej-XX",
        "colab": {
          "base_uri": "https://localhost:8080/"
        },
        "outputId": "f5b50c10-8ecb-4873-841f-3846bca1dc18"
      },
      "outputs": [
        {
          "output_type": "stream",
          "name": "stdout",
          "text": [
            "  Preparing metadata (setup.py) ... \u001b[?25l\u001b[?25hdone\n",
            "  Preparing metadata (setup.py) ... \u001b[?25l\u001b[?25hdone\n",
            "  Preparing metadata (setup.py) ... \u001b[?25l\u001b[?25hdone\n"
          ]
        }
      ],
      "source": [
        "!pip install -qr big_vision/big_vision/requirements.txt"
      ]
    },
    {
      "cell_type": "code",
      "execution_count": 3,
      "metadata": {
        "id": "f09dX0cekPRa"
      },
      "outputs": [],
      "source": [
        "import sys\n",
        "bv_path = './big_vision'\n",
        "if bv_path not in sys.path:\n",
        "  sys.path.insert(0, bv_path)\n",
        "\n",
        "%load_ext autoreload\n",
        "%autoreload 2"
      ]
    },
    {
      "cell_type": "code",
      "source": [
        "from absl import flags\n",
        "from absl import logging\n",
        "import tensorflow_datasets as tfds\n",
        "from google.colab import files\n",
        "\n",
        "logging.set_verbosity(logging.INFO)\n",
        "\n",
        "def set_max_height(max_height):\n",
        "  \"\"\"Limits scrollable area of output cell to `max_height` pixels.\"\"\"\n",
        "  import IPython.display\n",
        "  IPython.display.display(IPython.display.Javascript('''\n",
        "    google.colab.output.setIframeHeight(0, true, {maxHeight: %d})\n",
        "  ''' % max_height))"
      ],
      "metadata": {
        "id": "3J0Ilcu6LczM"
      },
      "execution_count": 4,
      "outputs": []
    },
    {
      "cell_type": "code",
      "execution_count": 5,
      "metadata": {
        "id": "ij41ZsIkmVQB",
        "colab": {
          "base_uri": "https://localhost:8080/"
        },
        "outputId": "03058240-b85b-46e2-e944-92a980077bcf"
      },
      "outputs": [
        {
          "output_type": "stream",
          "name": "stdout",
          "text": [
            "Mon Mar 13 10:56:53 2023       \n",
            "+-----------------------------------------------------------------------------+\n",
            "| NVIDIA-SMI 525.85.12    Driver Version: 525.85.12    CUDA Version: 12.0     |\n",
            "|-------------------------------+----------------------+----------------------+\n",
            "| GPU  Name        Persistence-M| Bus-Id        Disp.A | Volatile Uncorr. ECC |\n",
            "| Fan  Temp  Perf  Pwr:Usage/Cap|         Memory-Usage | GPU-Util  Compute M. |\n",
            "|                               |                      |               MIG M. |\n",
            "|===============================+======================+======================|\n",
            "|   0  Tesla T4            Off  | 00000000:00:04.0 Off |                    0 |\n",
            "| N/A   68C    P0    30W /  70W |      0MiB / 15360MiB |      0%      Default |\n",
            "|                               |                      |                  N/A |\n",
            "+-------------------------------+----------------------+----------------------+\n",
            "                                                                               \n",
            "+-----------------------------------------------------------------------------+\n",
            "| Processes:                                                                  |\n",
            "|  GPU   GI   CI        PID   Type   Process name                  GPU Memory |\n",
            "|        ID   ID                                                   Usage      |\n",
            "|=============================================================================|\n",
            "|  No running processes found                                                 |\n",
            "+-----------------------------------------------------------------------------+\n"
          ]
        },
        {
          "output_type": "execute_result",
          "data": {
            "text/plain": [
              "[StreamExecutorGpuDevice(id=0, process_index=0, slice_index=0)]"
            ]
          },
          "metadata": {},
          "execution_count": 5
        }
      ],
      "source": [
        "# Set up Colab  TPUs (if available).\n",
        "import os\n",
        "if 'COLAB_TPU_ADDR' in os.environ:\n",
        "  import jax.tools.colab_tpu\n",
        "  jax.tools.colab_tpu.setup_tpu()\n",
        "else:\n",
        "  !nvidia-smi\n",
        "import jax\n",
        "jax.devices()"
      ]
    },
    {
      "cell_type": "code",
      "execution_count": 6,
      "metadata": {
        "id": "cCqkcNAqz7xr"
      },
      "outputs": [],
      "source": [
        "# Uncomment this snippet to access a private GCS bucket with prepared\n",
        "# TFDS datasets.\n",
        "\n",
        "# import tensorflow_datasets as tfds\n",
        "# from google.colab import auth\n",
        "# auth.authenticate_user()  # Required to access access protected GCS buckets.\n",
        "# import os\n",
        "# os.environ['TFDS_DATA_DIR'] = 'gs://tensorflow-datasets/datasets'\n",
        "# builder = tfds.builder('coco_captions')\n",
        "# b = next(iter(builder.as_dataset('val')))"
      ]
    },
    {
      "cell_type": "markdown",
      "source": [
        "### Load training run data"
      ],
      "metadata": {
        "id": "TiJsesb1Bds8"
      }
    },
    {
      "cell_type": "code",
      "source": [
        "import json\n",
        "import re\n",
        "\n",
        "import matplotlib.pyplot as plt\n",
        "import numpy as np\n",
        "import pandas as pd\n",
        "from tensorflow.io import gfile\n",
        "\n",
        "def plot_metrics(workdir, regexes, cols=4, cmp={}):\n",
        "  \"\"\"Plots metrics matching `regexes` from `workdir`.\"\"\"\n",
        "  df = pd.DataFrame([json.loads(line) for line in gfile.GFile(f'{workdir}/big_vision_metrics.txt')])\n",
        "  df = df.set_index('step')\n",
        "  ms = []\n",
        "  for regex in regexes:\n",
        "    for col in df.columns:\n",
        "      if col not in ms and re.match(regex, col):\n",
        "        ms.append(col)\n",
        "  rows = int(np.ceil(len(ms) / cols))\n",
        "  _, axs = plt.subplots(rows, cols, figsize=(4*cols, 3*rows))\n",
        "  if rows == 1: axs = [axs]\n",
        "  for i, m in enumerate(ms):\n",
        "    ax = axs[i // cols][i % cols]\n",
        "    df[m].dropna().plot(ax=ax)\n",
        "    if m in cmp: cmp[m].dropna().plot(ax=ax)\n",
        "    ax.set_title(m)\n",
        "  plt.tight_layout()\n",
        "  return df\n",
        "\n",
        "# Reference run using the tiny 80k \"coco-captions\" TFDS dataset.\n",
        "df = plot_metrics('gs://vit_models/lit/big_vision/coco_B16B', [\n",
        "    'training', 'val/loss', 'img/', '.*net2012',\n",
        "    '.*cifar100', '.*pet', '.*@1$',\n",
        "])"
      ],
      "metadata": {
        "id": "EGSsrwtnBfD5",
        "colab": {
          "base_uri": "https://localhost:8080/",
          "height": 306
        },
        "outputId": "96985539-74f1-41cd-b4fe-89c1901b447d"
      },
      "execution_count": 7,
      "outputs": [
        {
          "output_type": "display_data",
          "data": {
            "text/plain": [
              "\u003cFigure size 1152x432 with 8 Axes\u003e"
            ],
            "image/png": "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(internal link)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\n"
          },
          "metadata": {
            "needs_background": "light"
          }
        }
      ]
    },
    {
      "cell_type": "markdown",
      "source": [
        "### Inference\n",
        "\n",
        "Using an example from the online Demo\n",
        "\n",
        "https://google-research.github.io/vision_transformer/lit/"
      ],
      "metadata": {
        "id": "DDNZ7kkGNr8_"
      }
    },
    {
      "cell_type": "code",
      "source": [
        "!test -f apple-ipod.jpg || wget https://cdn.openai.com/multimodal-neurons/assets/apple/apple-ipod.jpg\n",
        "\n",
        "labels = [\n",
        "    'an apple',\n",
        "    'an ipod',\n",
        "    'granny smith',\n",
        "    'an apple with a note saying \"ipod\"',\n",
        "    'an adversarial attack',\n",
        "]\n",
        "\n",
        "import PIL\n",
        "import numpy as np\n",
        "img = np.array(PIL.Image.open('apple-ipod.jpg'))\n",
        "import matplotlib.pyplot as plt\n",
        "plt.imshow(img)\n",
        "img.shape, img.dtype"
      ],
      "metadata": {
        "id": "4Fp2PiiYYnqp",
        "colab": {
          "base_uri": "https://localhost:8080/",
          "height": 286
        },
        "outputId": "9c8498b3-4330-46ef-e8d1-05864e59fccf"
      },
      "execution_count": 8,
      "outputs": [
        {
          "output_type": "execute_result",
          "data": {
            "text/plain": [
              "((322, 322, 3), dtype('uint8'))"
            ]
          },
          "metadata": {},
          "execution_count": 8
        },
        {
          "output_type": "display_data",
          "data": {
            "text/plain": [
              "\u003cFigure size 432x288 with 1 Axes\u003e"
            ],
            "image/png": "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(internal link)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\n"
          },
          "metadata": {
            "needs_background": "light"
          }
        }
      ]
    },
    {
      "cell_type": "code",
      "source": [
        "!test -f LiT-B16B.npz || gsutil cp gs://vit_models/lit/LiT-B16B.* ."
      ],
      "metadata": {
        "id": "sQLpVwrFTt5P"
      },
      "execution_count": 9,
      "outputs": []
    },
    {
      "cell_type": "code",
      "execution_count": 11,
      "metadata": {
        "id": "RkWQEDrkmSf0",
        "colab": {
          "base_uri": "https://localhost:8080/",
          "height": 17
        },
        "outputId": "34b2cd6d-7c02-457b-a127-30f7e6676b35"
      },
      "outputs": [
        {
          "output_type": "display_data",
          "data": {
            "text/plain": [
              "\u003cIPython.core.display.Javascript object\u003e"
            ],
            "application/javascript": [
              "\n",
              "      ((filepath) =\u003e {{\n",
              "        if (!google.colab.kernel.accessAllowed) {{\n",
              "          return;\n",
              "        }}\n",
              "        google.colab.files.view(filepath);\n",
              "      }})(\"/content/big_vision/big_vision/configs/proj/image_text/lit_coco.py\")"
            ]
          },
          "metadata": {}
        }
      ],
      "source": [
        "files.view('big_vision/big_vision/configs/proj/image_text/lit_coco.py')\n",
        "from big_vision.configs.proj.image_text import lit_coco\n",
        "arg = 'txt=bert_base,img=B/16,img_head,init=LiT-B16B.npz'\n",
        "config = lit_coco.get_config(arg)"
      ]
    },
    {
      "cell_type": "code",
      "source": [
        "# Initialize template params...\n",
        "import importlib\n",
        "import jax.numpy as jnp\n",
        "\n",
        "model_mod = importlib.import_module(f'big_vision.models.{config.model_name}')\n",
        "\n",
        "model = model_mod.Model(**config.model)\n",
        "\n",
        "init_params = [\n",
        "    jnp.zeros(shape, dtype)\n",
        "    for shape, dtype in zip(config.init_shapes, config.init_types)\n",
        "]\n",
        "\n",
        "params0 = model.init(jax.random.PRNGKey(42), *init_params)['params'].unfreeze()"
      ],
      "metadata": {
        "id": "2Frpb9t8NsnH"
      },
      "execution_count": 12,
      "outputs": []
    },
    {
      "cell_type": "code",
      "source": [
        "# ... and load/modify pre-trained params.\n",
        "from big_vision import utils\n",
        "# Note that `.load()` is responsible for parameter tree surgery to adapt old\n",
        "# checkpoints to most recent source code.\n",
        "params = model_mod.load(params0, 'LiT-B16B.npz', config.model)"
      ],
      "metadata": {
        "id": "gyZMqL5C9usk",
        "colab": {
          "base_uri": "https://localhost:8080/"
        },
        "outputId": "61b595ff-fccf-4367-b565-d7bcc74fbea6"
      },
      "execution_count": 13,
      "outputs": [
        {
          "output_type": "stream",
          "name": "stderr",
          "text": [
            "INFO:absl:ViT: Loading and fixing VERY old posemb\n",
            "INFO:absl:ViT: Loading and fixing combined cls+posemb\n",
            "/content/./big_vision/big_vision/utils.py:593: FutureWarning: jax.tree_flatten is deprecated, and will be removed in a future release. Use jax.tree_util.tree_flatten instead.\n",
            "  vals, tree_def = jax.tree_flatten(tree)\n",
            "INFO:absl:\n",
            "INFO:absl:\n",
            "INFO:absl:Could not find original BERT checkpoint path 'LiT-B16B.npz:txt/bert_model.ckpt', loading big_vision checkpoint 'LiT-B16B.npz:txt'\n",
            "INFO:absl:\n",
            "INFO:absl:\n"
          ]
        }
      ]
    },
    {
      "cell_type": "code",
      "source": [
        "# The preprocessing is optimized for efficiently streaming through TFDS\n",
        "# datasets - below code runs it separately on the image and every text.\n",
        "set_max_height(222)\n",
        "\n",
        "from big_vision.pp import builder as pp_builder\n",
        "for pp_mod in config.pp_modules:\n",
        "  importlib.import_module(f'big_vision.pp.{pp_mod}')\n",
        "\n",
        "pp_str = config.evals.val.pp_fn.replace('decode|', '')\n",
        "imgs = np.array(pp_builder.get_preprocess_fn(pp_str)({\n",
        "    'image': img[None],\n",
        "    'captions/text': np.array(['']),\n",
        "})['image'])\n",
        "txts = np.stack([\n",
        "    pp_builder.get_preprocess_fn(pp_str, log_data=False)({\n",
        "        'image': img[None],\n",
        "        'captions/text': np.array([label]),\n",
        "    })['labels']\n",
        "    for label in labels\n",
        "])\n",
        "imgs.shape, txts.shape"
      ],
      "metadata": {
        "id": "EWq4la1QZqZh",
        "colab": {
          "base_uri": "https://localhost:8080/",
          "height": 222
        },
        "outputId": "cfe73bae-b359-4470-bf25-f8f0eb9254de"
      },
      "execution_count": 14,
      "outputs": [
        {
          "output_type": "display_data",
          "data": {
            "text/plain": [
              "\u003cIPython.core.display.Javascript object\u003e"
            ],
            "application/javascript": [
              "\n",
              "    google.colab.output.setIframeHeight(0, true, {maxHeight: 222})\n",
              "  "
            ]
          },
          "metadata": {}
        },
        {
          "output_type": "stream",
          "name": "stderr",
          "text": [
            "INFO:absl:Data before pre-processing:\n",
            "{'image': array([[[[123,  94,  52],\n",
            "         [123,  96,  53],\n",
            "         [139, 114,  74],\n",
            "         ...,\n",
            "         [ 64,  54,  19],\n",
            "         [ 60,  54,  22],\n",
            "         [ 54,  48,  16]],\n",
            "\n",
            "        [[149, 125,  81],\n",
            "         [149, 126,  84],\n",
            "         [152, 130,  89],\n",
            "         ...,\n",
            "         [ 69,  55,  26],\n",
            "         [ 61,  54,  28],\n",
            "         [ 48,  41,  15]],\n",
            "\n",
            "        [[152, 133,  91],\n",
            "         [155, 138,  95],\n",
            "         [153, 135,  95],\n",
            "         ...,\n",
            "         [ 75,  59,  33],\n",
            "         [ 68,  60,  39],\n",
            "         [ 45,  37,  16]],\n",
            "\n",
            "        ...,\n",
            "\n",
            "        [[112, 101,  73],\n",
            "         [115, 103,  77],\n",
            "         [177, 165, 141],\n",
            "         ...,\n",
            "         [ 15,   9,   9],\n",
            "         [  1,   0,   0],\n",
            "         [  1,   0,   0]],\n",
            "\n",
            "        [[113,  98,  79],\n",
            "         [160, 145, 126],\n",
            "         [191, 175, 159],\n",
            "         ...,\n",
            "         [  3,   4,   6],\n",
            "         [  0,   0,   0],\n",
            "         [  0,   0,   0]],\n",
            "\n",
            "        [[113,  98,  79],\n",
            "         [160, 145, 126],\n",
            "         [191, 175, 159],\n",
            "         ...,\n",
            "         [  3,   4,   6],\n",
            "         [  0,   0,   0],\n",
            "         [  0,   0,   0]]]], dtype=uint8), 'captions/text': array([''], dtype='\u003cU1')}\n",
            "INFO:absl:Data after pre-processing:\n",
            "{'image': \u003ctf.Tensor: shape=(1, 224, 224, 3), dtype=float32, numpy=\n",
            "array([[[[ 0.00392163, -0.20784312, -0.54509807],\n",
            "         [ 0.07450986, -0.12156862, -0.44313723],\n",
            "         [ 0.0196079 , -0.14509803, -0.44313723],\n",
            "         ...,\n",
            "         [-0.5137255 , -0.5921569 , -0.8352941 ],\n",
            "         [-0.5058824 , -0.5764706 , -0.8352941 ],\n",
            "         [-0.5764706 , -0.62352943, -0.8666667 ]],\n",
            "\n",
            "        [[ 0.18431377,  0.02745104, -0.3098039 ],\n",
            "         [ 0.19215691,  0.04313731, -0.27843136],\n",
            "         [-0.01960784, -0.1372549 , -0.44313723],\n",
            "         ...,\n",
            "         [-0.41176468, -0.5294118 , -0.7411765 ],\n",
            "         [-0.45098037, -0.5529412 , -0.7490196 ],\n",
            "         [-0.60784316, -0.67058825, -0.8509804 ]],\n",
            "\n",
            "        [[ 0.00392163, -0.12156862, -0.41960782],\n",
            "         [-0.01176471, -0.1372549 , -0.42745095],\n",
            "         [-0.16862744, -0.27843136, -0.5686275 ],\n",
            "         ...,\n",
            "         [-0.3098039 , -0.44313723, -0.64705884],\n",
            "         [-0.35686272, -0.49019605, -0.6862745 ],\n",
            "         [-0.5372549 , -0.654902  , -0.8039216 ]],\n",
            "\n",
            "        ...,\n",
            "\n",
            "        [[-0.09803921, -0.19215685, -0.3960784 ],\n",
            "         [ 0.0196079 , -0.0745098 , -0.27058822],\n",
            "         [ 0.5529412 ,  0.45098042,  0.28627455],\n",
            "         ...,\n",
            "         [-0.84313726, -0.88235295, -0.90588236],\n",
            "         [-0.94509804, -0.9607843 , -0.9764706 ],\n",
            "         [-0.99215686, -1.        , -1.        ]],\n",
            "\n",
            "        [[-0.09019607, -0.19215685, -0.38039213],\n",
            "         [ 0.28627455,  0.17647064,  0.00392163],\n",
            "         [ 0.52156866,  0.41960788,  0.26274514],\n",
            "         ...,\n",
            "         [-0.8745098 , -0.92941177, -0.9372549 ],\n",
            "         [-0.94509804, -0.96862745, -0.9607843 ],\n",
            "         [-1.        , -1.        , -1.        ]],\n",
            "\n",
            "        [[-0.03529412, -0.15294117, -0.30196077],\n",
            "         [ 0.41176474,  0.28627455,  0.15294123],\n",
            "         [ 0.52156866,  0.39607847,  0.27058828],\n",
            "         ...,\n",
            "         [-0.9607843 , -0.9843137 , -0.9764706 ],\n",
            "         [-0.99215686, -0.9843137 , -0.9764706 ],\n",
            "         [-1.        , -1.        , -1.        ]]]], dtype=float32)\u003e, 'labels': \u003ctf.Tensor: shape=(16,), dtype=int32, numpy=\n",
            "array([101,   0,   0,   0,   0,   0,   0,   0,   0,   0,   0,   0,   0,\n",
            "         0,   0,   0], dtype=int32)\u003e}\n"
          ]
        },
        {
          "output_type": "execute_result",
          "data": {
            "text/plain": [
              "((1, 224, 224, 3), (5, 16))"
            ]
          },
          "metadata": {},
          "execution_count": 14
        }
      ]
    },
    {
      "cell_type": "code",
      "source": [
        "%debug"
      ],
      "metadata": {
        "id": "2KQGmbebjTmt",
        "outputId": "c88fbf9c-550a-464e-d8d7-c066b94671d2",
        "colab": {
          "base_uri": "https://localhost:8080/"
        }
      },
      "execution_count": 15,
      "outputs": [
        {
          "output_type": "stream",
          "name": "stderr",
          "text": [
            "ERROR:root:No traceback has been produced, nothing to debug.\n"
          ]
        }
      ]
    },
    {
      "cell_type": "code",
      "source": [
        "zimg, _, _ = model.apply({'params': params}, imgs, None)\n",
        "_, ztxt, _ = model.apply({'params': params}, None, txts)"
      ],
      "metadata": {
        "id": "naL1Ul1ablZ5"
      },
      "execution_count": 16,
      "outputs": []
    },
    {
      "cell_type": "code",
      "source": [
        "probs = jax.nn.softmax((zimg[0] @ ztxt.T * np.exp(params['t'])))\n",
        "list(zip(labels, probs.tolist()))"
      ],
      "metadata": {
        "id": "TIdAVw9VGEAw",
        "colab": {
          "base_uri": "https://localhost:8080/"
        },
        "outputId": "15d3f416-438e-4529-c43e-0b29702320fd"
      },
      "execution_count": 17,
      "outputs": [
        {
          "output_type": "execute_result",
          "data": {
            "text/plain": [
              "[('an apple', 0.0028924213256686926),\n",
              " ('an ipod', 1.852169361882261e-06),\n",
              " ('granny smith', 1.0219791874988005e-05),\n",
              " ('an apple with a note saying \"ipod\"', 0.9970954656600952),\n",
              " ('an adversarial attack', 4.8630912630187595e-08)]"
            ]
          },
          "metadata": {},
          "execution_count": 17
        }
      ]
    },
    {
      "cell_type": "markdown",
      "source": [
        "### Run evaluation\n",
        "\n",
        "Below code runs a minimal version of the `big_vision.tols.eval_only` script."
      ],
      "metadata": {
        "id": "gFsqgYov9hAx"
      }
    },
    {
      "cell_type": "code",
      "execution_count": 18,
      "metadata": {
        "id": "juyZDho1n51-",
        "colab": {
          "base_uri": "https://localhost:8080/",
          "height": 17
        },
        "outputId": "35023da6-b321-4657-9b46-bc46a3f39593"
      },
      "outputs": [
        {
          "output_type": "display_data",
          "data": {
            "text/plain": [
              "\u003cIPython.core.display.Javascript object\u003e"
            ],
            "application/javascript": [
              "\n",
              "      ((filepath) =\u003e {{\n",
              "        if (!google.colab.kernel.accessAllowed) {{\n",
              "          return;\n",
              "        }}\n",
              "        google.colab.files.view(filepath);\n",
              "      }})(\"/content/big_vision/big_vision/tools/eval_only.py\")"
            ]
          },
          "metadata": {}
        }
      ],
      "source": [
        "files.view('big_vision/big_vision/tools/eval_only.py')\n",
        "from big_vision.tools import eval_only"
      ]
    },
    {
      "cell_type": "code",
      "source": [
        "!test -f LiT-B16B.npz || gsutil cp gs://vit_models/lit/LiT-B16B.* ."
      ],
      "metadata": {
        "id": "9wcyh0wJJb5z"
      },
      "execution_count": 19,
      "outputs": []
    },
    {
      "cell_type": "code",
      "execution_count": 20,
      "metadata": {
        "id": "ZLKRKtQlEbH8"
      },
      "outputs": [],
      "source": [
        "from big_vision.configs.proj.image_text import lit_coco\n",
        "arg = 'txt=bert_base,img=B/16,img_head,init=LiT-B16B.npz'\n",
        "config = lit_coco.get_config(arg)"
      ]
    },
    {
      "cell_type": "code",
      "source": [
        "# From all the pre-defined evaluators...\n",
        "set_max_height(222)\n",
        "config.evals"
      ],
      "metadata": {
        "id": "P7GJX-ekFaJM",
        "colab": {
          "base_uri": "https://localhost:8080/",
          "height": 222
        },
        "outputId": "12768e66-3d59-462e-c92c-7a2b31a5dcde"
      },
      "execution_count": 21,
      "outputs": [
        {
          "output_type": "display_data",
          "data": {
            "text/plain": [
              "\u003cIPython.core.display.Javascript object\u003e"
            ],
            "application/javascript": [
              "\n",
              "    google.colab.output.setIframeHeight(0, true, {maxHeight: 222})\n",
              "  "
            ]
          },
          "metadata": {}
        },
        {
          "output_type": "execute_result",
          "data": {
            "text/plain": [
              "coco:\n",
              "  data:\n",
              "    name: coco_captions\n",
              "    split: val\n",
              "  log_steps: 500\n",
              "  pp_fn: decode|resize(224)|value_range(-1,1)|flatten|bert_tokenize(inkey=\"captions/text\",\n",
              "    max_len=16, vocab_path=\"LiT-B16B.txt\")|keep(\"image\", \"labels\")\n",
              "  type: proj.image_text.contrastive\n",
              "  use_global_batch: true\n",
              "disclf:\n",
              "  log_steps: 500\n",
              "  pp_img: resize(224)|value_range(-1,1)\n",
              "  pp_txt: bert_tokenize(inkey=\"texts\", max_len=16, vocab_path=\"LiT-B16B.txt\")\n",
              "  prefix: z/0shot/\n",
              "  type: proj.image_text.discriminative_classifier\n",
              "imagenet:\n",
              "  data:\n",
              "    name: imagenet2012\n",
              "    split: validation\n",
              "  log_steps: 500\n",
              "  pp_fn: decode|resize(224)|value_range(-1,1)|clip_i1k_label_names|bert_tokenize(inkey=\"labels\",\n",
              "    max_len=16, vocab_path=\"LiT-B16B.txt\")|keep(\"image\", \"labels\")\n",
              "  type: proj.image_text.contrastive\n",
              "  use_global_batch: true\n",
              "retrieval_coco:\n",
              "  dataset: coco_captions\n",
              "  log_steps: 500\n",
              "  pp_img: resize(224)|value_range(-1, 1)\n",
              "  pp_txt: bert_tokenize(inkey=\"texts\", max_len=16, vocab_path=\"LiT-B16B.txt\")\n",
              "  prefix: z/retr/coco_\n",
              "  txt_name: !!python/tuple\n",
              "  - captions\n",
              "  - text\n",
              "  type: proj.image_text.retrieval\n",
              "val:\n",
              "  data:\n",
              "    name: coco_captions\n",
              "    split: val\n",
              "  log_steps: 500\n",
              "  pp_fn: decode|resize(224)|value_range(-1,1)|flatten|bert_tokenize(inkey=\"captions/text\",\n",
              "    max_len=16, vocab_path=\"LiT-B16B.txt\")|keep(\"image\", \"labels\")\n",
              "  type: proj.image_text.contrastive\n",
              "  use_global_batch: true"
            ]
          },
          "metadata": {},
          "execution_count": 21
        }
      ]
    },
    {
      "cell_type": "code",
      "source": [
        "# ... run a single zeroshot discriminative classifier on pets.\n",
        "config.evals = {\n",
        "    'disclf': {\n",
        "        **config.evals.disclf,\n",
        "        'dataset_names': ['oxford_iiit_pet'],\n",
        "        'dataset_overrides': (),\n",
        "    },\n",
        "}\n",
        "config.evals"
      ],
      "metadata": {
        "id": "aqqr9PB0Fh8w",
        "colab": {
          "base_uri": "https://localhost:8080/"
        },
        "outputId": "33ecdf97-74fb-4b1c-8b5c-1b16e6287f27"
      },
      "execution_count": 22,
      "outputs": [
        {
          "output_type": "execute_result",
          "data": {
            "text/plain": [
              "disclf:\n",
              "  dataset_names:\n",
              "  - oxford_iiit_pet\n",
              "  dataset_overrides: !!python/tuple []\n",
              "  log_steps: 500\n",
              "  pp_img: resize(224)|value_range(-1,1)\n",
              "  pp_txt: bert_tokenize(inkey=\"texts\", max_len=16, vocab_path=\"LiT-B16B.txt\")\n",
              "  prefix: z/0shot/\n",
              "  type: proj.image_text.discriminative_classifier"
            ]
          },
          "metadata": {},
          "execution_count": 22
        }
      ]
    },
    {
      "cell_type": "code",
      "source": [
        "# Prepare pets dataset.\n",
        "tfds.builder('oxford_iiit_pet').download_and_prepare()"
      ],
      "metadata": {
        "id": "AZMFa5NjAwu-",
        "colab": {
          "base_uri": "https://localhost:8080/"
        },
        "outputId": "e183d317-5cf5-400f-af10-dd2ee30ee4a7"
      },
      "execution_count": 23,
      "outputs": [
        {
          "output_type": "stream",
          "name": "stderr",
          "text": [
            "INFO:absl:Load dataset info from /root/tensorflow_datasets/oxford_iiit_pet/3.2.0\n",
            "INFO:absl:Reusing dataset oxford_iiit_pet (/root/tensorflow_datasets/oxford_iiit_pet/3.2.0)\n"
          ]
        }
      ]
    },
    {
      "cell_type": "code",
      "execution_count": 24,
      "metadata": {
        "id": "YWipdlfQn7Zg",
        "outputId": "2d4c760f-85d8-4cab-8bea-d4816709f975",
        "colab": {
          "base_uri": "https://localhost:8080/"
        }
      },
      "outputs": [
        {
          "output_type": "stream",
          "name": "stdout",
          "text": [
            "mkdir: cannot create directory ‘lit_coco_B16B_eval’: File exists\n"
          ]
        }
      ],
      "source": [
        "workdir = 'lit_coco_B16B_eval'\n",
        "!mkdir $workdir\n",
        "flags.FLAGS.workdir = workdir\n",
        "config.input.batch_size = 512\n",
        "flags.FLAGS.config = config"
      ]
    },
    {
      "cell_type": "code",
      "execution_count": 25,
      "metadata": {
        "id": "JRKXQ9KyoCVi",
        "colab": {
          "base_uri": "https://localhost:8080/",
          "height": 444
        },
        "outputId": "dcd18c18-20ec-4108-8139-e68218b45164"
      },
      "outputs": [
        {
          "output_type": "display_data",
          "data": {
            "text/plain": [
              "\u003cIPython.core.display.Javascript object\u003e"
            ],
            "application/javascript": [
              "\n",
              "    google.colab.output.setIframeHeight(0, true, {maxHeight: 444})\n",
              "  "
            ]
          },
          "metadata": {}
        },
        {
          "output_type": "stream",
          "name": "stderr",
          "text": [
            "INFO:absl:Workdir: lit_coco_B16B_eval\n",
            "INFO:absl:NOTE: Initializing proj.image_text.two_towers model...\n",
            "INFO:absl:\u001b[35m[0]\u001b[0m z/secs/init = 53.88540307900007\n",
            "INFO:absl:TIMING[z/secs/init]: 53.88540307900007\n",
            "INFO:absl:\n",
            "init params\n",
            "+-------------------------------------------------------------------------------------------------------+------------------+------------+-----------+----------+\n",
            "| Name                                                                                                  | Shape            | Size       | Mean      | Std      |\n",
            "+-------------------------------------------------------------------------------------------------------+------------------+------------+-----------+----------+\n",
            "| img/Transformer/encoder_norm/bias                                                                     | (768,)           | 768        | 0.0       | 0.0      |\n",
            "| img/Transformer/encoder_norm/scale                                                                    | (768,)           | 768        | 1.0       | 0.0      |\n",
            "| img/Transformer/encoderblock_0/LayerNorm_0/bias                                                       | (768,)           | 768        | 0.0       | 0.0      |\n",
            "| img/Transformer/encoderblock_0/LayerNorm_0/scale                                                      | (768,)           | 768        | 1.0       | 0.0      |\n",
            "| img/Transformer/encoderblock_0/LayerNorm_1/bias                                                       | (768,)           | 768        | 0.0       | 0.0      |\n",
            "| img/Transformer/encoderblock_0/LayerNorm_1/scale                                                      | (768,)           | 768        | 1.0       | 0.0      |\n",
            "| img/Transformer/encoderblock_0/MlpBlock_0/Dense_0/bias                                                | (3072,)          | 3,072      | 6.23e-09  | 1.03e-06 |\n",
            "| img/Transformer/encoderblock_0/MlpBlock_0/Dense_0/kernel                                              | (768, 3072)      | 2,359,296  | -1.19e-05 | 0.0228   |\n",
            "| img/Transformer/encoderblock_0/MlpBlock_0/Dense_1/bias                                                | (768,)           | 768        | -4.47e-08 | 1e-06    |\n",
            "| img/Transformer/encoderblock_0/MlpBlock_0/Dense_1/kernel                                              | (3072, 768)      | 2,359,296  | -3.51e-07 | 0.0228   |\n",
            "| img/Transformer/encoderblock_0/MultiHeadDotProductAttention_0/key/bias                                | (12, 64)         | 768        | 0.0       | 0.0      |\n",
            "| img/Transformer/encoderblock_0/MultiHeadDotProductAttention_0/key/kernel                              | (768, 12, 64)    | 589,824    | 9.09e-05  | 0.0361   |\n",
            "| img/Transformer/encoderblock_0/MultiHeadDotProductAttention_0/out/bias                                | (768,)           | 768        | 0.0       | 0.0      |\n",
            "| img/Transformer/encoderblock_0/MultiHeadDotProductAttention_0/out/kernel                              | (12, 64, 768)    | 589,824    | -7.25e-05 | 0.0361   |\n",
            "| img/Transformer/encoderblock_0/MultiHeadDotProductAttention_0/query/bias                              | (12, 64)         | 768        | 0.0       | 0.0      |\n",
            "| img/Transformer/encoderblock_0/MultiHeadDotProductAttention_0/query/kernel                            | (768, 12, 64)    | 589,824    | 8.03e-05  | 0.0361   |\n",
            "| img/Transformer/encoderblock_0/MultiHeadDotProductAttention_0/value/bias                              | (12, 64)         | 768        | 0.0       | 0.0      |\n",
            "| img/Transformer/encoderblock_0/MultiHeadDotProductAttention_0/value/kernel                            | (768, 12, 64)    | 589,824    | -6.62e-05 | 0.0361   |\n",
            "| img/Transformer/encoderblock_1/LayerNorm_0/bias                                                       | (768,)           | 768        | 0.0       | 0.0      |\n",
            "| img/Transformer/encoderblock_1/LayerNorm_0/scale                                                      | (768,)           | 768        | 1.0       | 0.0      |\n",
            "| img/Transformer/encoderblock_1/LayerNorm_1/bias                                                       | (768,)           | 768        | 0.0       | 0.0      |\n",
            "| img/Transformer/encoderblock_1/LayerNorm_1/scale                                                      | (768,)           | 768        | 1.0       | 0.0      |\n",
            "| img/Transformer/encoderblock_1/MlpBlock_0/Dense_0/bias                                                | (3072,)          | 3,072      | 1.16e-08  | 1.01e-06 |\n",
            "| img/Transformer/encoderblock_1/MlpBlock_0/Dense_0/kernel                                              | (768, 3072)      | 2,359,296  | -8.66e-06 | 0.0228   |\n",
            "| img/Transformer/encoderblock_1/MlpBlock_0/Dense_1/bias                                                | (768,)           | 768        | 3.66e-08  | 1e-06    |\n",
            "| img/Transformer/encoderblock_1/MlpBlock_0/Dense_1/kernel                                              | (3072, 768)      | 2,359,296  | -6.84e-06 | 0.0228   |\n",
            "| img/Transformer/encoderblock_1/MultiHeadDotProductAttention_0/key/bias                                | (12, 64)         | 768        | 0.0       | 0.0      |\n",
            "| img/Transformer/encoderblock_1/MultiHeadDotProductAttention_0/key/kernel                              | (768, 12, 64)    | 589,824    | 4.01e-05  | 0.0361   |\n",
            "| img/Transformer/encoderblock_1/MultiHeadDotProductAttention_0/out/bias                                | (768,)           | 768        | 0.0       | 0.0      |\n",
            "| img/Transformer/encoderblock_1/MultiHeadDotProductAttention_0/out/kernel                              | (12, 64, 768)    | 589,824    | 8.36e-05  | 0.0361   |\n",
            "| img/Transformer/encoderblock_1/MultiHeadDotProductAttention_0/query/bias                              | (12, 64)         | 768        | 0.0       | 0.0      |\n",
            "| img/Transformer/encoderblock_1/MultiHeadDotProductAttention_0/query/kernel                            | (768, 12, 64)    | 589,824    | -1.96e-06 | 0.036    |\n",
            "| img/Transformer/encoderblock_1/MultiHeadDotProductAttention_0/value/bias                              | (12, 64)         | 768        | 0.0       | 0.0      |\n",
            "| img/Transformer/encoderblock_1/MultiHeadDotProductAttention_0/value/kernel                            | (768, 12, 64)    | 589,824    | -5.22e-05 | 0.0361   |\n",
            "| img/Transformer/encoderblock_10/LayerNorm_0/bias                                                      | (768,)           | 768        | 0.0       | 0.0      |\n",
            "| img/Transformer/encoderblock_10/LayerNorm_0/scale                                                     | (768,)           | 768        | 1.0       | 0.0      |\n",
            "| img/Transformer/encoderblock_10/LayerNorm_1/bias                                                      | (768,)           | 768        | 0.0       | 0.0      |\n",
            "| img/Transformer/encoderblock_10/LayerNorm_1/scale                                                     | (768,)           | 768        | 1.0       | 0.0      |\n",
            "| img/Transformer/encoderblock_10/MlpBlock_0/Dense_0/bias                                               | (3072,)          | 3,072      | 2.45e-08  | 1.02e-06 |\n",
            "| img/Transformer/encoderblock_10/MlpBlock_0/Dense_0/kernel                                             | (768, 3072)      | 2,359,296  | 1.55e-05  | 0.0228   |\n",
            "| img/Transformer/encoderblock_10/MlpBlock_0/Dense_1/bias                                               | (768,)           | 768        | -1.63e-08 | 9.76e-07 |\n",
            "| img/Transformer/encoderblock_10/MlpBlock_0/Dense_1/kernel                                             | (3072, 768)      | 2,359,296  | 7.67e-07  | 0.0228   |\n",
            "| img/Transformer/encoderblock_10/MultiHeadDotProductAttention_0/key/bias                               | (12, 64)         | 768        | 0.0       | 0.0      |\n",
            "| img/Transformer/encoderblock_10/MultiHeadDotProductAttention_0/key/kernel                             | (768, 12, 64)    | 589,824    | 3.51e-05  | 0.0361   |\n",
            "| img/Transformer/encoderblock_10/MultiHeadDotProductAttention_0/out/bias                               | (768,)           | 768        | 0.0       | 0.0      |\n",
            "| img/Transformer/encoderblock_10/MultiHeadDotProductAttention_0/out/kernel                             | (12, 64, 768)    | 589,824    | -6.83e-07 | 0.0361   |\n",
            "| img/Transformer/encoderblock_10/MultiHeadDotProductAttention_0/query/bias                             | (12, 64)         | 768        | 0.0       | 0.0      |\n",
            "| img/Transformer/encoderblock_10/MultiHeadDotProductAttention_0/query/kernel                           | (768, 12, 64)    | 589,824    | -5.43e-05 | 0.0361   |\n",
            "| img/Transformer/encoderblock_10/MultiHeadDotProductAttention_0/value/bias                             | (12, 64)         | 768        | 0.0       | 0.0      |\n",
            "| img/Transformer/encoderblock_10/MultiHeadDotProductAttention_0/value/kernel                           | (768, 12, 64)    | 589,824    | -1.21e-05 | 0.0361   |\n",
            "| img/Transformer/encoderblock_11/LayerNorm_0/bias                                                      | (768,)           | 768        | 0.0       | 0.0      |\n",
            "| img/Transformer/encoderblock_11/LayerNorm_0/scale                                                     | (768,)           | 768        | 1.0       | 0.0      |\n",
            "| img/Transformer/encoderblock_11/LayerNorm_1/bias                                                      | (768,)           | 768        | 0.0       | 0.0      |\n",
            "| img/Transformer/encoderblock_11/LayerNorm_1/scale                                                     | (768,)           | 768        | 1.0       | 0.0      |\n",
            "| img/Transformer/encoderblock_11/MlpBlock_0/Dense_0/bias                                               | (3072,)          | 3,072      | 2.03e-08  | 9.84e-07 |\n",
            "| img/Transformer/encoderblock_11/MlpBlock_0/Dense_0/kernel                                             | (768, 3072)      | 2,359,296  | 1.7e-05   | 0.0228   |\n",
            "| img/Transformer/encoderblock_11/MlpBlock_0/Dense_1/bias                                               | (768,)           | 768        | -1.2e-08  | 1.01e-06 |\n",
            "| img/Transformer/encoderblock_11/MlpBlock_0/Dense_1/kernel                                             | (3072, 768)      | 2,359,296  | 1.59e-05  | 0.0228   |\n",
            "| img/Transformer/encoderblock_11/MultiHeadDotProductAttention_0/key/bias                               | (12, 64)         | 768        | 0.0       | 0.0      |\n",
            "| img/Transformer/encoderblock_11/MultiHeadDotProductAttention_0/key/kernel                             | (768, 12, 64)    | 589,824    | 7.33e-05  | 0.0361   |\n",
            "| img/Transformer/encoderblock_11/MultiHeadDotProductAttention_0/out/bias                               | (768,)           | 768        | 0.0       | 0.0      |\n",
            "| img/Transformer/encoderblock_11/MultiHeadDotProductAttention_0/out/kernel                             | (12, 64, 768)    | 589,824    | 1.83e-05  | 0.036    |\n",
            "| img/Transformer/encoderblock_11/MultiHeadDotProductAttention_0/query/bias                             | (12, 64)         | 768        | 0.0       | 0.0      |\n",
            "| img/Transformer/encoderblock_11/MultiHeadDotProductAttention_0/query/kernel                           | (768, 12, 64)    | 589,824    | 1.72e-05  | 0.0361   |\n",
            "| img/Transformer/encoderblock_11/MultiHeadDotProductAttention_0/value/bias                             | (12, 64)         | 768        | 0.0       | 0.0      |\n",
            "| img/Transformer/encoderblock_11/MultiHeadDotProductAttention_0/value/kernel                           | (768, 12, 64)    | 589,824    | 1.88e-05  | 0.0361   |\n",
            "| img/Transformer/encoderblock_2/LayerNorm_0/bias                                                       | (768,)           | 768        | 0.0       | 0.0      |\n",
            "| img/Transformer/encoderblock_2/LayerNorm_0/scale                                                      | (768,)           | 768        | 1.0       | 0.0      |\n",
            "| img/Transformer/encoderblock_2/LayerNorm_1/bias                                                       | (768,)           | 768        | 0.0       | 0.0      |\n",
            "| img/Transformer/encoderblock_2/LayerNorm_1/scale                                                      | (768,)           | 768        | 1.0       | 0.0      |\n",
            "| img/Transformer/encoderblock_2/MlpBlock_0/Dense_0/bias                                                | (3072,)          | 3,072      | -1.56e-08 | 1e-06    |\n",
            "| img/Transformer/encoderblock_2/MlpBlock_0/Dense_0/kernel                                              | (768, 3072)      | 2,359,296  | -8.46e-06 | 0.0228   |\n",
            "| img/Transformer/encoderblock_2/MlpBlock_0/Dense_1/bias                                                | (768,)           | 768        | -6.15e-08 | 9.86e-07 |\n",
            "| img/Transformer/encoderblock_2/MlpBlock_0/Dense_1/kernel                                              | (3072, 768)      | 2,359,296  | -8.32e-06 | 0.0228   |\n",
            "| img/Transformer/encoderblock_2/MultiHeadDotProductAttention_0/key/bias                                | (12, 64)         | 768        | 0.0       | 0.0      |\n",
            "| img/Transformer/encoderblock_2/MultiHeadDotProductAttention_0/key/kernel                              | (768, 12, 64)    | 589,824    | 7.9e-06   | 0.0361   |\n",
            "INFO:absl:\n",
            "| img/Transformer/encoderblock_2/MultiHeadDotProductAttention_0/out/bias                                | (768,)           | 768        | 0.0       | 0.0      |\n",
            "| img/Transformer/encoderblock_2/MultiHeadDotProductAttention_0/out/kernel                              | (12, 64, 768)    | 589,824    | 1.59e-05  | 0.0361   |\n",
            "| img/Transformer/encoderblock_2/MultiHeadDotProductAttention_0/query/bias                              | (12, 64)         | 768        | 0.0       | 0.0      |\n",
            "| img/Transformer/encoderblock_2/MultiHeadDotProductAttention_0/query/kernel                            | (768, 12, 64)    | 589,824    | -2.98e-06 | 0.0361   |\n",
            "| img/Transformer/encoderblock_2/MultiHeadDotProductAttention_0/value/bias                              | (12, 64)         | 768        | 0.0       | 0.0      |\n",
            "| img/Transformer/encoderblock_2/MultiHeadDotProductAttention_0/value/kernel                            | (768, 12, 64)    | 589,824    | -3.39e-05 | 0.0361   |\n",
            "| img/Transformer/encoderblock_3/LayerNorm_0/bias                                                       | (768,)           | 768        | 0.0       | 0.0      |\n",
            "| img/Transformer/encoderblock_3/LayerNorm_0/scale                                                      | (768,)           | 768        | 1.0       | 0.0      |\n",
            "| img/Transformer/encoderblock_3/LayerNorm_1/bias                                                       | (768,)           | 768        | 0.0       | 0.0      |\n",
            "| img/Transformer/encoderblock_3/LayerNorm_1/scale                                                      | (768,)           | 768        | 1.0       | 0.0      |\n",
            "| img/Transformer/encoderblock_3/MlpBlock_0/Dense_0/bias                                                | (3072,)          | 3,072      | -5.33e-09 | 1.01e-06 |\n",
            "| img/Transformer/encoderblock_3/MlpBlock_0/Dense_0/kernel                                              | (768, 3072)      | 2,359,296  | 7.81e-06  | 0.0228   |\n",
            "| img/Transformer/encoderblock_3/MlpBlock_0/Dense_1/bias                                                | (768,)           | 768        | -1.28e-08 | 9.99e-07 |\n",
            "| img/Transformer/encoderblock_3/MlpBlock_0/Dense_1/kernel                                              | (3072, 768)      | 2,359,296  | 1.42e-05  | 0.0228   |\n",
            "| img/Transformer/encoderblock_3/MultiHeadDotProductAttention_0/key/bias                                | (12, 64)         | 768        | 0.0       | 0.0      |\n",
            "| img/Transformer/encoderblock_3/MultiHeadDotProductAttention_0/key/kernel                              | (768, 12, 64)    | 589,824    | 1.1e-05   | 0.0361   |\n",
            "| img/Transformer/encoderblock_3/MultiHeadDotProductAttention_0/out/bias                                | (768,)           | 768        | 0.0       | 0.0      |\n",
            "| img/Transformer/encoderblock_3/MultiHeadDotProductAttention_0/out/kernel                              | (12, 64, 768)    | 589,824    | -0.000122 | 0.0361   |\n",
            "| img/Transformer/encoderblock_3/MultiHeadDotProductAttention_0/query/bias                              | (12, 64)         | 768        | 0.0       | 0.0      |\n",
            "| img/Transformer/encoderblock_3/MultiHeadDotProductAttention_0/query/kernel                            | (768, 12, 64)    | 589,824    | -4.36e-06 | 0.0361   |\n",
            "| img/Transformer/encoderblock_3/MultiHeadDotProductAttention_0/value/bias                              | (12, 64)         | 768        | 0.0       | 0.0      |\n",
            "| img/Transformer/encoderblock_3/MultiHeadDotProductAttention_0/value/kernel                            | (768, 12, 64)    | 589,824    | 2.49e-05  | 0.0361   |\n",
            "| img/Transformer/encoderblock_4/LayerNorm_0/bias                                                       | (768,)           | 768        | 0.0       | 0.0      |\n",
            "| img/Transformer/encoderblock_4/LayerNorm_0/scale                                                      | (768,)           | 768        | 1.0       | 0.0      |\n",
            "| img/Transformer/encoderblock_4/LayerNorm_1/bias                                                       | (768,)           | 768        | 0.0       | 0.0      |\n",
            "| img/Transformer/encoderblock_4/LayerNorm_1/scale                                                      | (768,)           | 768        | 1.0       | 0.0      |\n",
            "| img/Transformer/encoderblock_4/MlpBlock_0/Dense_0/bias                                                | (3072,)          | 3,072      | 4.7e-09   | 9.95e-07 |\n",
            "| img/Transformer/encoderblock_4/MlpBlock_0/Dense_0/kernel                                              | (768, 3072)      | 2,359,296  | 1.16e-05  | 0.0228   |\n",
            "| img/Transformer/encoderblock_4/MlpBlock_0/Dense_1/bias                                                | (768,)           | 768        | -3.34e-08 | 9.85e-07 |\n",
            "| img/Transformer/encoderblock_4/MlpBlock_0/Dense_1/kernel                                              | (3072, 768)      | 2,359,296  | 1.28e-05  | 0.0228   |\n",
            "| img/Transformer/encoderblock_4/MultiHeadDotProductAttention_0/key/bias                                | (12, 64)         | 768        | 0.0       | 0.0      |\n",
            "| img/Transformer/encoderblock_4/MultiHeadDotProductAttention_0/key/kernel                              | (768, 12, 64)    | 589,824    | -6.55e-06 | 0.0361   |\n",
            "| img/Transformer/encoderblock_4/MultiHeadDotProductAttention_0/out/bias                                | (768,)           | 768        | 0.0       | 0.0      |\n",
            "| img/Transformer/encoderblock_4/MultiHeadDotProductAttention_0/out/kernel                              | (12, 64, 768)    | 589,824    | 4.19e-05  | 0.0361   |\n",
            "| img/Transformer/encoderblock_4/MultiHeadDotProductAttention_0/query/bias                              | (12, 64)         | 768        | 0.0       | 0.0      |\n",
            "| img/Transformer/encoderblock_4/MultiHeadDotProductAttention_0/query/kernel                            | (768, 12, 64)    | 589,824    | 6.5e-05   | 0.0361   |\n",
            "| img/Transformer/encoderblock_4/MultiHeadDotProductAttention_0/value/bias                              | (12, 64)         | 768        | 0.0       | 0.0      |\n",
            "| img/Transformer/encoderblock_4/MultiHeadDotProductAttention_0/value/kernel                            | (768, 12, 64)    | 589,824    | 2.84e-05  | 0.0361   |\n",
            "| img/Transformer/encoderblock_5/LayerNorm_0/bias                                                       | (768,)           | 768        | 0.0       | 0.0      |\n",
            "| img/Transformer/encoderblock_5/LayerNorm_0/scale                                                      | (768,)           | 768        | 1.0       | 0.0      |\n",
            "| img/Transformer/encoderblock_5/LayerNorm_1/bias                                                       | (768,)           | 768        | 0.0       | 0.0      |\n",
            "| img/Transformer/encoderblock_5/LayerNorm_1/scale                                                      | (768,)           | 768        | 1.0       | 0.0      |\n",
            "| img/Transformer/encoderblock_5/MlpBlock_0/Dense_0/bias                                                | (3072,)          | 3,072      | -5.96e-09 | 1.01e-06 |\n",
            "| img/Transformer/encoderblock_5/MlpBlock_0/Dense_0/kernel                                              | (768, 3072)      | 2,359,296  | 3.21e-05  | 0.0228   |\n",
            "| img/Transformer/encoderblock_5/MlpBlock_0/Dense_1/bias                                                | (768,)           | 768        | 3.41e-08  | 9.66e-07 |\n",
            "| img/Transformer/encoderblock_5/MlpBlock_0/Dense_1/kernel                                              | (3072, 768)      | 2,359,296  | -8.61e-06 | 0.0228   |\n",
            "| img/Transformer/encoderblock_5/MultiHeadDotProductAttention_0/key/bias                                | (12, 64)         | 768        | 0.0       | 0.0      |\n",
            "| img/Transformer/encoderblock_5/MultiHeadDotProductAttention_0/key/kernel                              | (768, 12, 64)    | 589,824    | 6.99e-06  | 0.0361   |\n",
            "| img/Transformer/encoderblock_5/MultiHeadDotProductAttention_0/out/bias                                | (768,)           | 768        | 0.0       | 0.0      |\n",
            "| img/Transformer/encoderblock_5/MultiHeadDotProductAttention_0/out/kernel                              | (12, 64, 768)    | 589,824    | -4.31e-05 | 0.0361   |\n",
            "| img/Transformer/encoderblock_5/MultiHeadDotProductAttention_0/query/bias                              | (12, 64)         | 768        | 0.0       | 0.0      |\n",
            "| img/Transformer/encoderblock_5/MultiHeadDotProductAttention_0/query/kernel                            | (768, 12, 64)    | 589,824    | -3.99e-06 | 0.0361   |\n",
            "| img/Transformer/encoderblock_5/MultiHeadDotProductAttention_0/value/bias                              | (12, 64)         | 768        | 0.0       | 0.0      |\n",
            "| img/Transformer/encoderblock_5/MultiHeadDotProductAttention_0/value/kernel                            | (768, 12, 64)    | 589,824    | -4.3e-05  | 0.0361   |\n",
            "| img/Transformer/encoderblock_6/LayerNorm_0/bias                                                       | (768,)           | 768        | 0.0       | 0.0      |\n",
            "| img/Transformer/encoderblock_6/LayerNorm_0/scale                                                      | (768,)           | 768        | 1.0       | 0.0      |\n",
            "| img/Transformer/encoderblock_6/LayerNorm_1/bias                                                       | (768,)           | 768        | 0.0       | 0.0      |\n",
            "| img/Transformer/encoderblock_6/LayerNorm_1/scale                                                      | (768,)           | 768        | 1.0       | 0.0      |\n",
            "| img/Transformer/encoderblock_6/MlpBlock_0/Dense_0/bias                                                | (3072,)          | 3,072      | 1.27e-08  | 1.01e-06 |\n",
            "| img/Transformer/encoderblock_6/MlpBlock_0/Dense_0/kernel                                              | (768, 3072)      | 2,359,296  | -1.43e-05 | 0.0228   |\n",
            "| img/Transformer/encoderblock_6/MlpBlock_0/Dense_1/bias                                                | (768,)           | 768        | -4.46e-08 | 1.01e-06 |\n",
            "| img/Transformer/encoderblock_6/MlpBlock_0/Dense_1/kernel                                              | (3072, 768)      | 2,359,296  | 3.42e-06  | 0.0228   |\n",
            "| img/Transformer/encoderblock_6/MultiHeadDotProductAttention_0/key/bias                                | (12, 64)         | 768        | 0.0       | 0.0      |\n",
            "| img/Transformer/encoderblock_6/MultiHeadDotProductAttention_0/key/kernel                              | (768, 12, 64)    | 589,824    | 1.97e-05  | 0.0361   |\n",
            "| img/Transformer/encoderblock_6/MultiHeadDotProductAttention_0/out/bias                                | (768,)           | 768        | 0.0       | 0.0      |\n",
            "| img/Transformer/encoderblock_6/MultiHeadDotProductAttention_0/out/kernel                              | (12, 64, 768)    | 589,824    | 2.28e-05  | 0.0361   |\n",
            "| img/Transformer/encoderblock_6/MultiHeadDotProductAttention_0/query/bias                              | (12, 64)         | 768        | 0.0       | 0.0      |\n",
            "| img/Transformer/encoderblock_6/MultiHeadDotProductAttention_0/query/kernel                            | (768, 12, 64)    | 589,824    | -2.81e-05 | 0.0361   |\n",
            "| img/Transformer/encoderblock_6/MultiHeadDotProductAttention_0/value/bias                              | (12, 64)         | 768        | 0.0       | 0.0      |\n",
            "| img/Transformer/encoderblock_6/MultiHeadDotProductAttention_0/value/kernel                            | (768, 12, 64)    | 589,824    | 2.17e-05  | 0.0361   |\n",
            "| img/Transformer/encoderblock_7/LayerNorm_0/bias                                                       | (768,)           | 768        | 0.0       | 0.0      |\n",
            "| img/Transformer/encoderblock_7/LayerNorm_0/scale                                                      | (768,)           | 768        | 1.0       | 0.0      |\n",
            "| img/Transformer/encoderblock_7/LayerNorm_1/bias                                                       | (768,)           | 768        | 0.0       | 0.0      |\n",
            "| img/Transformer/encoderblock_7/LayerNorm_1/scale                                                      | (768,)           | 768        | 1.0       | 0.0      |\n",
            "| img/Transformer/encoderblock_7/MlpBlock_0/Dense_0/bias                                                | (3072,)          | 3,072      | -1.34e-08 | 9.87e-07 |\n",
            "| img/Transformer/encoderblock_7/MlpBlock_0/Dense_0/kernel                                              | (768, 3072)      | 2,359,296  | 3.61e-07  | 0.0228   |\n",
            "| img/Transformer/encoderblock_7/MlpBlock_0/Dense_1/bias                                                | (768,)           | 768        | -7.23e-08 | 1e-06    |\n",
            "| img/Transformer/encoderblock_7/MlpBlock_0/Dense_1/kernel                                              | (3072, 768)      | 2,359,296  | 7.83e-06  | 0.0228   |\n",
            "| img/Transformer/encoderblock_7/MultiHeadDotProductAttention_0/key/bias                                | (12, 64)         | 768        | 0.0       | 0.0      |\n",
            "| img/Transformer/encoderblock_7/MultiHeadDotProductAttention_0/key/kernel                              | (768, 12, 64)    | 589,824    | -3.07e-05 | 0.0361   |\n",
            "INFO:absl:\n",
            "| img/Transformer/encoderblock_7/MultiHeadDotProductAttention_0/out/bias                                | (768,)           | 768        | 0.0       | 0.0      |\n",
            "| img/Transformer/encoderblock_7/MultiHeadDotProductAttention_0/out/kernel                              | (12, 64, 768)    | 589,824    | 5.08e-05  | 0.0361   |\n",
            "| img/Transformer/encoderblock_7/MultiHeadDotProductAttention_0/query/bias                              | (12, 64)         | 768        | 0.0       | 0.0      |\n",
            "| img/Transformer/encoderblock_7/MultiHeadDotProductAttention_0/query/kernel                            | (768, 12, 64)    | 589,824    | -3.23e-05 | 0.036    |\n",
            "| img/Transformer/encoderblock_7/MultiHeadDotProductAttention_0/value/bias                              | (12, 64)         | 768        | 0.0       | 0.0      |\n",
            "| img/Transformer/encoderblock_7/MultiHeadDotProductAttention_0/value/kernel                            | (768, 12, 64)    | 589,824    | -2.02e-05 | 0.0361   |\n",
            "| img/Transformer/encoderblock_8/LayerNorm_0/bias                                                       | (768,)           | 768        | 0.0       | 0.0      |\n",
            "| img/Transformer/encoderblock_8/LayerNorm_0/scale                                                      | (768,)           | 768        | 1.0       | 0.0      |\n",
            "| img/Transformer/encoderblock_8/LayerNorm_1/bias                                                       | (768,)           | 768        | 0.0       | 0.0      |\n",
            "| img/Transformer/encoderblock_8/LayerNorm_1/scale                                                      | (768,)           | 768        | 1.0       | 0.0      |\n",
            "| img/Transformer/encoderblock_8/MlpBlock_0/Dense_0/bias                                                | (3072,)          | 3,072      | 3.85e-10  | 1e-06    |\n",
            "| img/Transformer/encoderblock_8/MlpBlock_0/Dense_0/kernel                                              | (768, 3072)      | 2,359,296  | 1.22e-06  | 0.0228   |\n",
            "| img/Transformer/encoderblock_8/MlpBlock_0/Dense_1/bias                                                | (768,)           | 768        | 3.61e-08  | 1.01e-06 |\n",
            "| img/Transformer/encoderblock_8/MlpBlock_0/Dense_1/kernel                                              | (3072, 768)      | 2,359,296  | 4.09e-07  | 0.0228   |\n",
            "| img/Transformer/encoderblock_8/MultiHeadDotProductAttention_0/key/bias                                | (12, 64)         | 768        | 0.0       | 0.0      |\n",
            "| img/Transformer/encoderblock_8/MultiHeadDotProductAttention_0/key/kernel                              | (768, 12, 64)    | 589,824    | 1.49e-05  | 0.0361   |\n",
            "| img/Transformer/encoderblock_8/MultiHeadDotProductAttention_0/out/bias                                | (768,)           | 768        | 0.0       | 0.0      |\n",
            "| img/Transformer/encoderblock_8/MultiHeadDotProductAttention_0/out/kernel                              | (12, 64, 768)    | 589,824    | -5.84e-05 | 0.0361   |\n",
            "| img/Transformer/encoderblock_8/MultiHeadDotProductAttention_0/query/bias                              | (12, 64)         | 768        | 0.0       | 0.0      |\n",
            "| img/Transformer/encoderblock_8/MultiHeadDotProductAttention_0/query/kernel                            | (768, 12, 64)    | 589,824    | 4.68e-05  | 0.0361   |\n",
            "| img/Transformer/encoderblock_8/MultiHeadDotProductAttention_0/value/bias                              | (12, 64)         | 768        | 0.0       | 0.0      |\n",
            "| img/Transformer/encoderblock_8/MultiHeadDotProductAttention_0/value/kernel                            | (768, 12, 64)    | 589,824    | 4.5e-05   | 0.036    |\n",
            "| img/Transformer/encoderblock_9/LayerNorm_0/bias                                                       | (768,)           | 768        | 0.0       | 0.0      |\n",
            "| img/Transformer/encoderblock_9/LayerNorm_0/scale                                                      | (768,)           | 768        | 1.0       | 0.0      |\n",
            "| img/Transformer/encoderblock_9/LayerNorm_1/bias                                                       | (768,)           | 768        | 0.0       | 0.0      |\n",
            "| img/Transformer/encoderblock_9/LayerNorm_1/scale                                                      | (768,)           | 768        | 1.0       | 0.0      |\n",
            "| img/Transformer/encoderblock_9/MlpBlock_0/Dense_0/bias                                                | (3072,)          | 3,072      | -1.35e-08 | 9.85e-07 |\n",
            "| img/Transformer/encoderblock_9/MlpBlock_0/Dense_0/kernel                                              | (768, 3072)      | 2,359,296  | -1.19e-05 | 0.0228   |\n",
            "| img/Transformer/encoderblock_9/MlpBlock_0/Dense_1/bias                                                | (768,)           | 768        | 1.02e-08  | 9.43e-07 |\n",
            "| img/Transformer/encoderblock_9/MlpBlock_0/Dense_1/kernel                                              | (3072, 768)      | 2,359,296  | 2.57e-05  | 0.0228   |\n",
            "| img/Transformer/encoderblock_9/MultiHeadDotProductAttention_0/key/bias                                | (12, 64)         | 768        | 0.0       | 0.0      |\n",
            "| img/Transformer/encoderblock_9/MultiHeadDotProductAttention_0/key/kernel                              | (768, 12, 64)    | 589,824    | -0.000109 | 0.0361   |\n",
            "| img/Transformer/encoderblock_9/MultiHeadDotProductAttention_0/out/bias                                | (768,)           | 768        | 0.0       | 0.0      |\n",
            "| img/Transformer/encoderblock_9/MultiHeadDotProductAttention_0/out/kernel                              | (12, 64, 768)    | 589,824    | 6.98e-05  | 0.0361   |\n",
            "| img/Transformer/encoderblock_9/MultiHeadDotProductAttention_0/query/bias                              | (12, 64)         | 768        | 0.0       | 0.0      |\n",
            "| img/Transformer/encoderblock_9/MultiHeadDotProductAttention_0/query/kernel                            | (768, 12, 64)    | 589,824    | 6.36e-05  | 0.0361   |\n",
            "| img/Transformer/encoderblock_9/MultiHeadDotProductAttention_0/value/bias                              | (12, 64)         | 768        | 0.0       | 0.0      |\n",
            "| img/Transformer/encoderblock_9/MultiHeadDotProductAttention_0/value/kernel                            | (768, 12, 64)    | 589,824    | -1.12e-05 | 0.0361   |\n",
            "| img/cls                                                                                               | (1, 1, 768)      | 768        | 0.0       | 0.0      |\n",
            "| img/embedding/bias                                                                                    | (768,)           | 768        | 0.0       | 0.0      |\n",
            "| img/embedding/kernel                                                                                  | (16, 16, 3, 768) | 589,824    | 4.59e-06  | 0.0361   |\n",
            "| img/head/bias                                                                                         | (768,)           | 768        | 0.0       | 0.0      |\n",
            "| img/head/kernel                                                                                       | (768, 768)       | 589,824    | -3.08e-05 | 0.0361   |\n",
            "| img/pos_embedding                                                                                     | (1, 196, 768)    | 150,528    | 4.29e-05  | 0.0361   |\n",
            "| t                                                                                                     | (1,)             | 1          | 2.3       | 0.0      |\n",
            "| txt/BertEncoder_0/embedder/embedders_position_ids/embedding                                           | (512, 768)       | 393,216    | 2.24e-05  | 0.0176   |\n",
            "| txt/BertEncoder_0/embedder/embedders_segment_ids/embedding                                            | (2, 768)         | 1,536      | -0.000444 | 0.0177   |\n",
            "| txt/BertEncoder_0/embedder/embedders_token_ids/embedding                                              | (30522, 768)     | 23,440,896 | 8.75e-07  | 0.0176   |\n",
            "| txt/BertEncoder_0/encoder_block/layer_sequence/layers_0/attention_block/attention_layer/key/bias      | (768,)           | 768        | 0.0       | 0.0      |\n",
            "| txt/BertEncoder_0/encoder_block/layer_sequence/layers_0/attention_block/attention_layer/key/kernel    | (768, 768)       | 589,824    | 9.06e-06  | 0.0176   |\n",
            "| txt/BertEncoder_0/encoder_block/layer_sequence/layers_0/attention_block/attention_layer/query/bias    | (768,)           | 768        | 0.0       | 0.0      |\n",
            "| txt/BertEncoder_0/encoder_block/layer_sequence/layers_0/attention_block/attention_layer/query/kernel  | (768, 768)       | 589,824    | 5.48e-06  | 0.0176   |\n",
            "| txt/BertEncoder_0/encoder_block/layer_sequence/layers_0/attention_block/attention_layer/value/bias    | (768,)           | 768        | 0.0       | 0.0      |\n",
            "| txt/BertEncoder_0/encoder_block/layer_sequence/layers_0/attention_block/attention_layer/value/kernel  | (768, 768)       | 589,824    | 3.62e-05  | 0.0176   |\n",
            "| txt/BertEncoder_0/encoder_block/layer_sequence/layers_0/attention_block/dense_layer/bias              | (768,)           | 768        | 0.0       | 0.0      |\n",
            "| txt/BertEncoder_0/encoder_block/layer_sequence/layers_0/attention_block/dense_layer/kernel            | (768, 768)       | 589,824    | -2.55e-05 | 0.0176   |\n",
            "| txt/BertEncoder_0/encoder_block/layer_sequence/layers_0/attention_block/layer_norm/bias               | (768,)           | 768        | 0.0       | 0.0      |\n",
            "| txt/BertEncoder_0/encoder_block/layer_sequence/layers_0/attention_block/layer_norm/scale              | (768,)           | 768        | 1.0       | 0.0      |\n",
            "| txt/BertEncoder_0/encoder_block/layer_sequence/layers_0/mlp_block/dense_layer/bias                    | (768,)           | 768        | 0.0       | 0.0      |\n",
            "| txt/BertEncoder_0/encoder_block/layer_sequence/layers_0/mlp_block/dense_layer/kernel                  | (3072, 768)      | 2,359,296  | -5.72e-06 | 0.0176   |\n",
            "| txt/BertEncoder_0/encoder_block/layer_sequence/layers_0/mlp_block/layer_norm/bias                     | (768,)           | 768        | 0.0       | 0.0      |\n",
            "| txt/BertEncoder_0/encoder_block/layer_sequence/layers_0/mlp_block/layer_norm/scale                    | (768,)           | 768        | 1.0       | 0.0      |\n",
            "| txt/BertEncoder_0/encoder_block/layer_sequence/layers_0/mlp_block/mlp/dense_layer/bias                | (3072,)          | 3,072      | 0.0       | 0.0      |\n",
            "| txt/BertEncoder_0/encoder_block/layer_sequence/layers_0/mlp_block/mlp/dense_layer/kernel              | (768, 3072)      | 2,359,296  | -5.07e-06 | 0.0176   |\n",
            "| txt/BertEncoder_0/encoder_block/layer_sequence/layers_1/attention_block/attention_layer/key/bias      | (768,)           | 768        | 0.0       | 0.0      |\n",
            "| txt/BertEncoder_0/encoder_block/layer_sequence/layers_1/attention_block/attention_layer/key/kernel    | (768, 768)       | 589,824    | -3.57e-05 | 0.0176   |\n",
            "| txt/BertEncoder_0/encoder_block/layer_sequence/layers_1/attention_block/attention_layer/query/bias    | (768,)           | 768        | 0.0       | 0.0      |\n",
            "| txt/BertEncoder_0/encoder_block/layer_sequence/layers_1/attention_block/attention_layer/query/kernel  | (768, 768)       | 589,824    | 4.81e-06  | 0.0176   |\n",
            "| txt/BertEncoder_0/encoder_block/layer_sequence/layers_1/attention_block/attention_layer/value/bias    | (768,)           | 768        | 0.0       | 0.0      |\n",
            "| txt/BertEncoder_0/encoder_block/layer_sequence/layers_1/attention_block/attention_layer/value/kernel  | (768, 768)       | 589,824    | 2.48e-05  | 0.0176   |\n",
            "| txt/BertEncoder_0/encoder_block/layer_sequence/layers_1/attention_block/dense_layer/bias              | (768,)           | 768        | 0.0       | 0.0      |\n",
            "| txt/BertEncoder_0/encoder_block/layer_sequence/layers_1/attention_block/dense_layer/kernel            | (768, 768)       | 589,824    | -3.36e-05 | 0.0176   |\n",
            "| txt/BertEncoder_0/encoder_block/layer_sequence/layers_1/attention_block/layer_norm/bias               | (768,)           | 768        | 0.0       | 0.0      |\n",
            "| txt/BertEncoder_0/encoder_block/layer_sequence/layers_1/attention_block/layer_norm/scale              | (768,)           | 768        | 1.0       | 0.0      |\n",
            "| txt/BertEncoder_0/encoder_block/layer_sequence/layers_1/mlp_block/dense_layer/bias                    | (768,)           | 768        | 0.0       | 0.0      |\n",
            "| txt/BertEncoder_0/encoder_block/layer_sequence/layers_1/mlp_block/dense_layer/kernel                  | (3072, 768)      | 2,359,296  | -3.38e-06 | 0.0176   |\n",
            "| txt/BertEncoder_0/encoder_block/layer_sequence/layers_1/mlp_block/layer_norm/bias                     | (768,)           | 768        | 0.0       | 0.0      |\n",
            "| txt/BertEncoder_0/encoder_block/layer_sequence/layers_1/mlp_block/layer_norm/scale                    | (768,)           | 768        | 1.0       | 0.0      |\n",
            "| txt/BertEncoder_0/encoder_block/layer_sequence/layers_1/mlp_block/mlp/dense_layer/bias                | (3072,)          | 3,072      | 0.0       | 0.0      |\n",
            "| txt/BertEncoder_0/encoder_block/layer_sequence/layers_1/mlp_block/mlp/dense_layer/kernel              | (768, 3072)      | 2,359,296  | 1.24e-05  | 0.0176   |\n",
            "INFO:absl:\n",
            "| txt/BertEncoder_0/encoder_block/layer_sequence/layers_10/attention_block/attention_layer/key/bias     | (768,)           | 768        | 0.0       | 0.0      |\n",
            "| txt/BertEncoder_0/encoder_block/layer_sequence/layers_10/attention_block/attention_layer/key/kernel   | (768, 768)       | 589,824    | 2.89e-06  | 0.0176   |\n",
            "| txt/BertEncoder_0/encoder_block/layer_sequence/layers_10/attention_block/attention_layer/query/bias   | (768,)           | 768        | 0.0       | 0.0      |\n",
            "| txt/BertEncoder_0/encoder_block/layer_sequence/layers_10/attention_block/attention_layer/query/kernel | (768, 768)       | 589,824    | -5.85e-05 | 0.0176   |\n",
            "| txt/BertEncoder_0/encoder_block/layer_sequence/layers_10/attention_block/attention_layer/value/bias   | (768,)           | 768        | 0.0       | 0.0      |\n",
            "| txt/BertEncoder_0/encoder_block/layer_sequence/layers_10/attention_block/attention_layer/value/kernel | (768, 768)       | 589,824    | -2.57e-05 | 0.0176   |\n",
            "| txt/BertEncoder_0/encoder_block/layer_sequence/layers_10/attention_block/dense_layer/bias             | (768,)           | 768        | 0.0       | 0.0      |\n",
            "| txt/BertEncoder_0/encoder_block/layer_sequence/layers_10/attention_block/dense_layer/kernel           | (768, 768)       | 589,824    | -1.51e-05 | 0.0176   |\n",
            "| txt/BertEncoder_0/encoder_block/layer_sequence/layers_10/attention_block/layer_norm/bias              | (768,)           | 768        | 0.0       | 0.0      |\n",
            "| txt/BertEncoder_0/encoder_block/layer_sequence/layers_10/attention_block/layer_norm/scale             | (768,)           | 768        | 1.0       | 0.0      |\n",
            "| txt/BertEncoder_0/encoder_block/layer_sequence/layers_10/mlp_block/dense_layer/bias                   | (768,)           | 768        | 0.0       | 0.0      |\n",
            "| txt/BertEncoder_0/encoder_block/layer_sequence/layers_10/mlp_block/dense_layer/kernel                 | (3072, 768)      | 2,359,296  | 1.63e-05  | 0.0176   |\n",
            "| txt/BertEncoder_0/encoder_block/layer_sequence/layers_10/mlp_block/layer_norm/bias                    | (768,)           | 768        | 0.0       | 0.0      |\n",
            "| txt/BertEncoder_0/encoder_block/layer_sequence/layers_10/mlp_block/layer_norm/scale                   | (768,)           | 768        | 1.0       | 0.0      |\n",
            "| txt/BertEncoder_0/encoder_block/layer_sequence/layers_10/mlp_block/mlp/dense_layer/bias               | (3072,)          | 3,072      | 0.0       | 0.0      |\n",
            "| txt/BertEncoder_0/encoder_block/layer_sequence/layers_10/mlp_block/mlp/dense_layer/kernel             | (768, 3072)      | 2,359,296  | 4.42e-06  | 0.0176   |\n",
            "| txt/BertEncoder_0/encoder_block/layer_sequence/layers_11/attention_block/attention_layer/key/bias     | (768,)           | 768        | 0.0       | 0.0      |\n",
            "| txt/BertEncoder_0/encoder_block/layer_sequence/layers_11/attention_block/attention_layer/key/kernel   | (768, 768)       | 589,824    | 3.27e-05  | 0.0176   |\n",
            "| txt/BertEncoder_0/encoder_block/layer_sequence/layers_11/attention_block/attention_layer/query/bias   | (768,)           | 768        | 0.0       | 0.0      |\n",
            "| txt/BertEncoder_0/encoder_block/layer_sequence/layers_11/attention_block/attention_layer/query/kernel | (768, 768)       | 589,824    | -2.42e-05 | 0.0176   |\n",
            "| txt/BertEncoder_0/encoder_block/layer_sequence/layers_11/attention_block/attention_layer/value/bias   | (768,)           | 768        | 0.0       | 0.0      |\n",
            "| txt/BertEncoder_0/encoder_block/layer_sequence/layers_11/attention_block/attention_layer/value/kernel | (768, 768)       | 589,824    | 3.01e-07  | 0.0176   |\n",
            "| txt/BertEncoder_0/encoder_block/layer_sequence/layers_11/attention_block/dense_layer/bias             | (768,)           | 768        | 0.0       | 0.0      |\n",
            "| txt/BertEncoder_0/encoder_block/layer_sequence/layers_11/attention_block/dense_layer/kernel           | (768, 768)       | 589,824    | -1.24e-05 | 0.0176   |\n",
            "| txt/BertEncoder_0/encoder_block/layer_sequence/layers_11/attention_block/layer_norm/bias              | (768,)           | 768        | 0.0       | 0.0      |\n",
            "| txt/BertEncoder_0/encoder_block/layer_sequence/layers_11/attention_block/layer_norm/scale             | (768,)           | 768        | 1.0       | 0.0      |\n",
            "| txt/BertEncoder_0/encoder_block/layer_sequence/layers_11/mlp_block/dense_layer/bias                   | (768,)           | 768        | 0.0       | 0.0      |\n",
            "| txt/BertEncoder_0/encoder_block/layer_sequence/layers_11/mlp_block/dense_layer/kernel                 | (3072, 768)      | 2,359,296  | 1.53e-06  | 0.0176   |\n",
            "| txt/BertEncoder_0/encoder_block/layer_sequence/layers_11/mlp_block/layer_norm/bias                    | (768,)           | 768        | 0.0       | 0.0      |\n",
            "| txt/BertEncoder_0/encoder_block/layer_sequence/layers_11/mlp_block/layer_norm/scale                   | (768,)           | 768        | 1.0       | 0.0      |\n",
            "| txt/BertEncoder_0/encoder_block/layer_sequence/layers_11/mlp_block/mlp/dense_layer/bias               | (3072,)          | 3,072      | 0.0       | 0.0      |\n",
            "| txt/BertEncoder_0/encoder_block/layer_sequence/layers_11/mlp_block/mlp/dense_layer/kernel             | (768, 3072)      | 2,359,296  | 1.69e-05  | 0.0176   |\n",
            "| txt/BertEncoder_0/encoder_block/layer_sequence/layers_2/attention_block/attention_layer/key/bias      | (768,)           | 768        | 0.0       | 0.0      |\n",
            "| txt/BertEncoder_0/encoder_block/layer_sequence/layers_2/attention_block/attention_layer/key/kernel    | (768, 768)       | 589,824    | -2.72e-05 | 0.0176   |\n",
            "| txt/BertEncoder_0/encoder_block/layer_sequence/layers_2/attention_block/attention_layer/query/bias    | (768,)           | 768        | 0.0       | 0.0      |\n",
            "| txt/BertEncoder_0/encoder_block/layer_sequence/layers_2/attention_block/attention_layer/query/kernel  | (768, 768)       | 589,824    | -8.02e-06 | 0.0176   |\n",
            "| txt/BertEncoder_0/encoder_block/layer_sequence/layers_2/attention_block/attention_layer/value/bias    | (768,)           | 768        | 0.0       | 0.0      |\n",
            "| txt/BertEncoder_0/encoder_block/layer_sequence/layers_2/attention_block/attention_layer/value/kernel  | (768, 768)       | 589,824    | -9.89e-06 | 0.0176   |\n",
            "| txt/BertEncoder_0/encoder_block/layer_sequence/layers_2/attention_block/dense_layer/bias              | (768,)           | 768        | 0.0       | 0.0      |\n",
            "| txt/BertEncoder_0/encoder_block/layer_sequence/layers_2/attention_block/dense_layer/kernel            | (768, 768)       | 589,824    | -8.38e-06 | 0.0176   |\n",
            "| txt/BertEncoder_0/encoder_block/layer_sequence/layers_2/attention_block/layer_norm/bias               | (768,)           | 768        | 0.0       | 0.0      |\n",
            "| txt/BertEncoder_0/encoder_block/layer_sequence/layers_2/attention_block/layer_norm/scale              | (768,)           | 768        | 1.0       | 0.0      |\n",
            "| txt/BertEncoder_0/encoder_block/layer_sequence/layers_2/mlp_block/dense_layer/bias                    | (768,)           | 768        | 0.0       | 0.0      |\n",
            "| txt/BertEncoder_0/encoder_block/layer_sequence/layers_2/mlp_block/dense_layer/kernel                  | (3072, 768)      | 2,359,296  | -4.68e-06 | 0.0176   |\n",
            "| txt/BertEncoder_0/encoder_block/layer_sequence/layers_2/mlp_block/layer_norm/bias                     | (768,)           | 768        | 0.0       | 0.0      |\n",
            "| txt/BertEncoder_0/encoder_block/layer_sequence/layers_2/mlp_block/layer_norm/scale                    | (768,)           | 768        | 1.0       | 0.0      |\n",
            "| txt/BertEncoder_0/encoder_block/layer_sequence/layers_2/mlp_block/mlp/dense_layer/bias                | (3072,)          | 3,072      | 0.0       | 0.0      |\n",
            "| txt/BertEncoder_0/encoder_block/layer_sequence/layers_2/mlp_block/mlp/dense_layer/kernel              | (768, 3072)      | 2,359,296  | 1.8e-05   | 0.0176   |\n",
            "| txt/BertEncoder_0/encoder_block/layer_sequence/layers_3/attention_block/attention_layer/key/bias      | (768,)           | 768        | 0.0       | 0.0      |\n",
            "| txt/BertEncoder_0/encoder_block/layer_sequence/layers_3/attention_block/attention_layer/key/kernel    | (768, 768)       | 589,824    | 2.57e-05  | 0.0176   |\n",
            "| txt/BertEncoder_0/encoder_block/layer_sequence/layers_3/attention_block/attention_layer/query/bias    | (768,)           | 768        | 0.0       | 0.0      |\n",
            "| txt/BertEncoder_0/encoder_block/layer_sequence/layers_3/attention_block/attention_layer/query/kernel  | (768, 768)       | 589,824    | 4.71e-05  | 0.0176   |\n",
            "| txt/BertEncoder_0/encoder_block/layer_sequence/layers_3/attention_block/attention_layer/value/bias    | (768,)           | 768        | 0.0       | 0.0      |\n",
            "| txt/BertEncoder_0/encoder_block/layer_sequence/layers_3/attention_block/attention_layer/value/kernel  | (768, 768)       | 589,824    | -8.88e-06 | 0.0176   |\n",
            "| txt/BertEncoder_0/encoder_block/layer_sequence/layers_3/attention_block/dense_layer/bias              | (768,)           | 768        | 0.0       | 0.0      |\n",
            "| txt/BertEncoder_0/encoder_block/layer_sequence/layers_3/attention_block/dense_layer/kernel            | (768, 768)       | 589,824    | 1.81e-05  | 0.0176   |\n",
            "| txt/BertEncoder_0/encoder_block/layer_sequence/layers_3/attention_block/layer_norm/bias               | (768,)           | 768        | 0.0       | 0.0      |\n",
            "| txt/BertEncoder_0/encoder_block/layer_sequence/layers_3/attention_block/layer_norm/scale              | (768,)           | 768        | 1.0       | 0.0      |\n",
            "| txt/BertEncoder_0/encoder_block/layer_sequence/layers_3/mlp_block/dense_layer/bias                    | (768,)           | 768        | 0.0       | 0.0      |\n",
            "| txt/BertEncoder_0/encoder_block/layer_sequence/layers_3/mlp_block/dense_layer/kernel                  | (3072, 768)      | 2,359,296  | 1.51e-05  | 0.0176   |\n",
            "| txt/BertEncoder_0/encoder_block/layer_sequence/layers_3/mlp_block/layer_norm/bias                     | (768,)           | 768        | 0.0       | 0.0      |\n",
            "| txt/BertEncoder_0/encoder_block/layer_sequence/layers_3/mlp_block/layer_norm/scale                    | (768,)           | 768        | 1.0       | 0.0      |\n",
            "| txt/BertEncoder_0/encoder_block/layer_sequence/layers_3/mlp_block/mlp/dense_layer/bias                | (3072,)          | 3,072      | 0.0       | 0.0      |\n",
            "| txt/BertEncoder_0/encoder_block/layer_sequence/layers_3/mlp_block/mlp/dense_layer/kernel              | (768, 3072)      | 2,359,296  | 1.5e-07   | 0.0176   |\n",
            "| txt/BertEncoder_0/encoder_block/layer_sequence/layers_4/attention_block/attention_layer/key/bias      | (768,)           | 768        | 0.0       | 0.0      |\n",
            "| txt/BertEncoder_0/encoder_block/layer_sequence/layers_4/attention_block/attention_layer/key/kernel    | (768, 768)       | 589,824    | -6.07e-06 | 0.0176   |\n",
            "| txt/BertEncoder_0/encoder_block/layer_sequence/layers_4/attention_block/attention_layer/query/bias    | (768,)           | 768        | 0.0       | 0.0      |\n",
            "| txt/BertEncoder_0/encoder_block/layer_sequence/layers_4/attention_block/attention_layer/query/kernel  | (768, 768)       | 589,824    | 2.15e-05  | 0.0176   |\n",
            "| txt/BertEncoder_0/encoder_block/layer_sequence/layers_4/attention_block/attention_layer/value/bias    | (768,)           | 768        | 0.0       | 0.0      |\n",
            "| txt/BertEncoder_0/encoder_block/layer_sequence/layers_4/attention_block/attention_layer/value/kernel  | (768, 768)       | 589,824    | -2.21e-05 | 0.0176   |\n",
            "| txt/BertEncoder_0/encoder_block/layer_sequence/layers_4/attention_block/dense_layer/bias              | (768,)           | 768        | 0.0       | 0.0      |\n",
            "| txt/BertEncoder_0/encoder_block/layer_sequence/layers_4/attention_block/dense_layer/kernel            | (768, 768)       | 589,824    | -6.73e-06 | 0.0176   |\n",
            "| txt/BertEncoder_0/encoder_block/layer_sequence/layers_4/attention_block/layer_norm/bias               | (768,)           | 768        | 0.0       | 0.0      |\n",
            "| txt/BertEncoder_0/encoder_block/layer_sequence/layers_4/attention_block/layer_norm/scale              | (768,)           | 768        | 1.0       | 0.0      |\n",
            "| txt/BertEncoder_0/encoder_block/layer_sequence/layers_4/mlp_block/dense_layer/bias                    | (768,)           | 768        | 0.0       | 0.0      |\n",
            "| txt/BertEncoder_0/encoder_block/layer_sequence/layers_4/mlp_block/dense_layer/kernel                  | (3072, 768)      | 2,359,296  | -5.38e-06 | 0.0176   |\n",
            "| txt/BertEncoder_0/encoder_block/layer_sequence/layers_4/mlp_block/layer_norm/bias                     | (768,)           | 768        | 0.0       | 0.0      |\n",
            "| txt/BertEncoder_0/encoder_block/layer_sequence/layers_4/mlp_block/layer_norm/scale                    | (768,)           | 768        | 1.0       | 0.0      |\n",
            "| txt/BertEncoder_0/encoder_block/layer_sequence/layers_4/mlp_block/mlp/dense_layer/bias                | (3072,)          | 3,072      | 0.0       | 0.0      |\n",
            "| txt/BertEncoder_0/encoder_block/layer_sequence/layers_4/mlp_block/mlp/dense_layer/kernel              | (768, 3072)      | 2,359,296  | -1.15e-05 | 0.0176   |\n",
            "INFO:absl:\n",
            "| txt/BertEncoder_0/encoder_block/layer_sequence/layers_5/attention_block/attention_layer/key/bias      | (768,)           | 768        | 0.0       | 0.0      |\n",
            "| txt/BertEncoder_0/encoder_block/layer_sequence/layers_5/attention_block/attention_layer/key/kernel    | (768, 768)       | 589,824    | 3.9e-06   | 0.0176   |\n",
            "| txt/BertEncoder_0/encoder_block/layer_sequence/layers_5/attention_block/attention_layer/query/bias    | (768,)           | 768        | 0.0       | 0.0      |\n",
            "| txt/BertEncoder_0/encoder_block/layer_sequence/layers_5/attention_block/attention_layer/query/kernel  | (768, 768)       | 589,824    | 2.32e-05  | 0.0176   |\n",
            "| txt/BertEncoder_0/encoder_block/layer_sequence/layers_5/attention_block/attention_layer/value/bias    | (768,)           | 768        | 0.0       | 0.0      |\n",
            "| txt/BertEncoder_0/encoder_block/layer_sequence/layers_5/attention_block/attention_layer/value/kernel  | (768, 768)       | 589,824    | -5.67e-06 | 0.0176   |\n",
            "| txt/BertEncoder_0/encoder_block/layer_sequence/layers_5/attention_block/dense_layer/bias              | (768,)           | 768        | 0.0       | 0.0      |\n",
            "| txt/BertEncoder_0/encoder_block/layer_sequence/layers_5/attention_block/dense_layer/kernel            | (768, 768)       | 589,824    | -2.08e-05 | 0.0176   |\n",
            "| txt/BertEncoder_0/encoder_block/layer_sequence/layers_5/attention_block/layer_norm/bias               | (768,)           | 768        | 0.0       | 0.0      |\n",
            "| txt/BertEncoder_0/encoder_block/layer_sequence/layers_5/attention_block/layer_norm/scale              | (768,)           | 768        | 1.0       | 0.0      |\n",
            "| txt/BertEncoder_0/encoder_block/layer_sequence/layers_5/mlp_block/dense_layer/bias                    | (768,)           | 768        | 0.0       | 0.0      |\n",
            "| txt/BertEncoder_0/encoder_block/layer_sequence/layers_5/mlp_block/dense_layer/kernel                  | (3072, 768)      | 2,359,296  | -1.6e-05  | 0.0176   |\n",
            "| txt/BertEncoder_0/encoder_block/layer_sequence/layers_5/mlp_block/layer_norm/bias                     | (768,)           | 768        | 0.0       | 0.0      |\n",
            "| txt/BertEncoder_0/encoder_block/layer_sequence/layers_5/mlp_block/layer_norm/scale                    | (768,)           | 768        | 1.0       | 0.0      |\n",
            "| txt/BertEncoder_0/encoder_block/layer_sequence/layers_5/mlp_block/mlp/dense_layer/bias                | (3072,)          | 3,072      | 0.0       | 0.0      |\n",
            "| txt/BertEncoder_0/encoder_block/layer_sequence/layers_5/mlp_block/mlp/dense_layer/kernel              | (768, 3072)      | 2,359,296  | 3.79e-06  | 0.0176   |\n",
            "| txt/BertEncoder_0/encoder_block/layer_sequence/layers_6/attention_block/attention_layer/key/bias      | (768,)           | 768        | 0.0       | 0.0      |\n",
            "| txt/BertEncoder_0/encoder_block/layer_sequence/layers_6/attention_block/attention_layer/key/kernel    | (768, 768)       | 589,824    | 4.87e-05  | 0.0176   |\n",
            "| txt/BertEncoder_0/encoder_block/layer_sequence/layers_6/attention_block/attention_layer/query/bias    | (768,)           | 768        | 0.0       | 0.0      |\n",
            "| txt/BertEncoder_0/encoder_block/layer_sequence/layers_6/attention_block/attention_layer/query/kernel  | (768, 768)       | 589,824    | -2.25e-05 | 0.0176   |\n",
            "| txt/BertEncoder_0/encoder_block/layer_sequence/layers_6/attention_block/attention_layer/value/bias    | (768,)           | 768        | 0.0       | 0.0      |\n",
            "| txt/BertEncoder_0/encoder_block/layer_sequence/layers_6/attention_block/attention_layer/value/kernel  | (768, 768)       | 589,824    | 1.32e-05  | 0.0176   |\n",
            "| txt/BertEncoder_0/encoder_block/layer_sequence/layers_6/attention_block/dense_layer/bias              | (768,)           | 768        | 0.0       | 0.0      |\n",
            "| txt/BertEncoder_0/encoder_block/layer_sequence/layers_6/attention_block/dense_layer/kernel            | (768, 768)       | 589,824    | -3.61e-06 | 0.0176   |\n",
            "| txt/BertEncoder_0/encoder_block/layer_sequence/layers_6/attention_block/layer_norm/bias               | (768,)           | 768        | 0.0       | 0.0      |\n",
            "| txt/BertEncoder_0/encoder_block/layer_sequence/layers_6/attention_block/layer_norm/scale              | (768,)           | 768        | 1.0       | 0.0      |\n",
            "| txt/BertEncoder_0/encoder_block/layer_sequence/layers_6/mlp_block/dense_layer/bias                    | (768,)           | 768        | 0.0       | 0.0      |\n",
            "| txt/BertEncoder_0/encoder_block/layer_sequence/layers_6/mlp_block/dense_layer/kernel                  | (3072, 768)      | 2,359,296  | -4.74e-06 | 0.0176   |\n",
            "| txt/BertEncoder_0/encoder_block/layer_sequence/layers_6/mlp_block/layer_norm/bias                     | (768,)           | 768        | 0.0       | 0.0      |\n",
            "| txt/BertEncoder_0/encoder_block/layer_sequence/layers_6/mlp_block/layer_norm/scale                    | (768,)           | 768        | 1.0       | 0.0      |\n",
            "| txt/BertEncoder_0/encoder_block/layer_sequence/layers_6/mlp_block/mlp/dense_layer/bias                | (3072,)          | 3,072      | 0.0       | 0.0      |\n",
            "| txt/BertEncoder_0/encoder_block/layer_sequence/layers_6/mlp_block/mlp/dense_layer/kernel              | (768, 3072)      | 2,359,296  | 1.82e-05  | 0.0176   |\n",
            "| txt/BertEncoder_0/encoder_block/layer_sequence/layers_7/attention_block/attention_layer/key/bias      | (768,)           | 768        | 0.0       | 0.0      |\n",
            "| txt/BertEncoder_0/encoder_block/layer_sequence/layers_7/attention_block/attention_layer/key/kernel    | (768, 768)       | 589,824    | 5.25e-06  | 0.0176   |\n",
            "| txt/BertEncoder_0/encoder_block/layer_sequence/layers_7/attention_block/attention_layer/query/bias    | (768,)           | 768        | 0.0       | 0.0      |\n",
            "| txt/BertEncoder_0/encoder_block/layer_sequence/layers_7/attention_block/attention_layer/query/kernel  | (768, 768)       | 589,824    | -1.27e-05 | 0.0176   |\n",
            "| txt/BertEncoder_0/encoder_block/layer_sequence/layers_7/attention_block/attention_layer/value/bias    | (768,)           | 768        | 0.0       | 0.0      |\n",
            "| txt/BertEncoder_0/encoder_block/layer_sequence/layers_7/attention_block/attention_layer/value/kernel  | (768, 768)       | 589,824    | -9.13e-06 | 0.0176   |\n",
            "| txt/BertEncoder_0/encoder_block/layer_sequence/layers_7/attention_block/dense_layer/bias              | (768,)           | 768        | 0.0       | 0.0      |\n",
            "| txt/BertEncoder_0/encoder_block/layer_sequence/layers_7/attention_block/dense_layer/kernel            | (768, 768)       | 589,824    | -1.41e-05 | 0.0176   |\n",
            "| txt/BertEncoder_0/encoder_block/layer_sequence/layers_7/attention_block/layer_norm/bias               | (768,)           | 768        | 0.0       | 0.0      |\n",
            "| txt/BertEncoder_0/encoder_block/layer_sequence/layers_7/attention_block/layer_norm/scale              | (768,)           | 768        | 1.0       | 0.0      |\n",
            "| txt/BertEncoder_0/encoder_block/layer_sequence/layers_7/mlp_block/dense_layer/bias                    | (768,)           | 768        | 0.0       | 0.0      |\n",
            "| txt/BertEncoder_0/encoder_block/layer_sequence/layers_7/mlp_block/dense_layer/kernel                  | (3072, 768)      | 2,359,296  | 6.44e-06  | 0.0176   |\n",
            "| txt/BertEncoder_0/encoder_block/layer_sequence/layers_7/mlp_block/layer_norm/bias                     | (768,)           | 768        | 0.0       | 0.0      |\n",
            "| txt/BertEncoder_0/encoder_block/layer_sequence/layers_7/mlp_block/layer_norm/scale                    | (768,)           | 768        | 1.0       | 0.0      |\n",
            "| txt/BertEncoder_0/encoder_block/layer_sequence/layers_7/mlp_block/mlp/dense_layer/bias                | (3072,)          | 3,072      | 0.0       | 0.0      |\n",
            "| txt/BertEncoder_0/encoder_block/layer_sequence/layers_7/mlp_block/mlp/dense_layer/kernel              | (768, 3072)      | 2,359,296  | 1.11e-05  | 0.0176   |\n",
            "| txt/BertEncoder_0/encoder_block/layer_sequence/layers_8/attention_block/attention_layer/key/bias      | (768,)           | 768        | 0.0       | 0.0      |\n",
            "| txt/BertEncoder_0/encoder_block/layer_sequence/layers_8/attention_block/attention_layer/key/kernel    | (768, 768)       | 589,824    | 1.21e-05  | 0.0176   |\n",
            "| txt/BertEncoder_0/encoder_block/layer_sequence/layers_8/attention_block/attention_layer/query/bias    | (768,)           | 768        | 0.0       | 0.0      |\n",
            "| txt/BertEncoder_0/encoder_block/layer_sequence/layers_8/attention_block/attention_layer/query/kernel  | (768, 768)       | 589,824    | 1.18e-05  | 0.0176   |\n",
            "| txt/BertEncoder_0/encoder_block/layer_sequence/layers_8/attention_block/attention_layer/value/bias    | (768,)           | 768        | 0.0       | 0.0      |\n",
            "| txt/BertEncoder_0/encoder_block/layer_sequence/layers_8/attention_block/attention_layer/value/kernel  | (768, 768)       | 589,824    | 3.39e-05  | 0.0176   |\n",
            "| txt/BertEncoder_0/encoder_block/layer_sequence/layers_8/attention_block/dense_layer/bias              | (768,)           | 768        | 0.0       | 0.0      |\n",
            "| txt/BertEncoder_0/encoder_block/layer_sequence/layers_8/attention_block/dense_layer/kernel            | (768, 768)       | 589,824    | -4.93e-05 | 0.0176   |\n",
            "| txt/BertEncoder_0/encoder_block/layer_sequence/layers_8/attention_block/layer_norm/bias               | (768,)           | 768        | 0.0       | 0.0      |\n",
            "| txt/BertEncoder_0/encoder_block/layer_sequence/layers_8/attention_block/layer_norm/scale              | (768,)           | 768        | 1.0       | 0.0      |\n",
            "| txt/BertEncoder_0/encoder_block/layer_sequence/layers_8/mlp_block/dense_layer/bias                    | (768,)           | 768        | 0.0       | 0.0      |\n",
            "| txt/BertEncoder_0/encoder_block/layer_sequence/layers_8/mlp_block/dense_layer/kernel                  | (3072, 768)      | 2,359,296  | 1.02e-05  | 0.0176   |\n",
            "| txt/BertEncoder_0/encoder_block/layer_sequence/layers_8/mlp_block/layer_norm/bias                     | (768,)           | 768        | 0.0       | 0.0      |\n",
            "| txt/BertEncoder_0/encoder_block/layer_sequence/layers_8/mlp_block/layer_norm/scale                    | (768,)           | 768        | 1.0       | 0.0      |\n",
            "| txt/BertEncoder_0/encoder_block/layer_sequence/layers_8/mlp_block/mlp/dense_layer/bias                | (3072,)          | 3,072      | 0.0       | 0.0      |\n",
            "| txt/BertEncoder_0/encoder_block/layer_sequence/layers_8/mlp_block/mlp/dense_layer/kernel              | (768, 3072)      | 2,359,296  | 4.39e-08  | 0.0176   |\n",
            "| txt/BertEncoder_0/encoder_block/layer_sequence/layers_9/attention_block/attention_layer/key/bias      | (768,)           | 768        | 0.0       | 0.0      |\n",
            "| txt/BertEncoder_0/encoder_block/layer_sequence/layers_9/attention_block/attention_layer/key/kernel    | (768, 768)       | 589,824    | -2.86e-05 | 0.0176   |\n",
            "| txt/BertEncoder_0/encoder_block/layer_sequence/layers_9/attention_block/attention_layer/query/bias    | (768,)           | 768        | 0.0       | 0.0      |\n",
            "| txt/BertEncoder_0/encoder_block/layer_sequence/layers_9/attention_block/attention_layer/query/kernel  | (768, 768)       | 589,824    | 1.33e-06  | 0.0176   |\n",
            "| txt/BertEncoder_0/encoder_block/layer_sequence/layers_9/attention_block/attention_layer/value/bias    | (768,)           | 768        | 0.0       | 0.0      |\n",
            "| txt/BertEncoder_0/encoder_block/layer_sequence/layers_9/attention_block/attention_layer/value/kernel  | (768, 768)       | 589,824    | -1.02e-05 | 0.0176   |\n",
            "| txt/BertEncoder_0/encoder_block/layer_sequence/layers_9/attention_block/dense_layer/bias              | (768,)           | 768        | 0.0       | 0.0      |\n",
            "| txt/BertEncoder_0/encoder_block/layer_sequence/layers_9/attention_block/dense_layer/kernel            | (768, 768)       | 589,824    | 1.6e-05   | 0.0176   |\n",
            "| txt/BertEncoder_0/encoder_block/layer_sequence/layers_9/attention_block/layer_norm/bias               | (768,)           | 768        | 0.0       | 0.0      |\n",
            "| txt/BertEncoder_0/encoder_block/layer_sequence/layers_9/attention_block/layer_norm/scale              | (768,)           | 768        | 1.0       | 0.0      |\n",
            "| txt/BertEncoder_0/encoder_block/layer_sequence/layers_9/mlp_block/dense_layer/bias                    | (768,)           | 768        | 0.0       | 0.0      |\n",
            "| txt/BertEncoder_0/encoder_block/layer_sequence/layers_9/mlp_block/dense_layer/kernel                  | (3072, 768)      | 2,359,296  | 2.31e-05  | 0.0176   |\n",
            "| txt/BertEncoder_0/encoder_block/layer_sequence/layers_9/mlp_block/layer_norm/bias                     | (768,)           | 768        | 0.0       | 0.0      |\n",
            "| txt/BertEncoder_0/encoder_block/layer_sequence/layers_9/mlp_block/layer_norm/scale                    | (768,)           | 768        | 1.0       | 0.0      |\n",
            "| txt/BertEncoder_0/encoder_block/layer_sequence/layers_9/mlp_block/mlp/dense_layer/bias                | (3072,)          | 3,072      | 0.0       | 0.0      |\n",
            "| txt/BertEncoder_0/encoder_block/layer_sequence/layers_9/mlp_block/mlp/dense_layer/kernel              | (768, 3072)      | 2,359,296  | 5.85e-06  | 0.0176   |\n",
            "INFO:absl:\n",
            "| txt/BertEncoder_0/layer_norm/bias                                                                     | (768,)           | 768        | 0.0       | 0.0      |\n",
            "| txt/BertEncoder_0/layer_norm/scale                                                                    | (768,)           | 768        | 1.0       | 0.0      |\n",
            "| txt/head/bias                                                                                         | (768,)           | 768        | 0.0       | 0.0      |\n",
            "| txt/head/kernel                                                                                       | (768, 768)       | 589,824    | 5.69e-05  | 0.0361   |\n",
            "+-------------------------------------------------------------------------------------------------------+------------------+------------+-----------+----------+\n",
            "Total: 195,870,721\n",
            "/content/./big_vision/big_vision/tools/eval_only.py:93: FutureWarning: jax.tree_leaves is deprecated, and will be removed in a future release. Use jax.tree_util.tree_leaves instead.\n",
            "  num_params = sum(p.size for p in jax.tree_leaves(params_cpu))\n",
            "INFO:absl:\u001b[35m[0]\u001b[0m num_params = 195870721.0\n",
            "INFO:absl:NOTE: Initialize model from LiT-B16B.npz...\n",
            "INFO:absl:ViT: Loading and fixing VERY old posemb\n",
            "INFO:absl:ViT: Loading and fixing combined cls+posemb\n",
            "INFO:absl:\n",
            "INFO:absl:\n",
            "INFO:absl:Could not find original BERT checkpoint path 'LiT-B16B.npz:txt/bert_model.ckpt', loading big_vision checkpoint 'LiT-B16B.npz:txt'\n",
            "INFO:absl:\n",
            "INFO:absl:\n",
            "INFO:absl:\n",
            "loaded params\n",
            "+-------------------------------------------------------------------------------------------------------+------------------+------------+-----------+--------+\n",
            "| Name                                                                                                  | Shape            | Size       | Mean      | Std    |\n",
            "+-------------------------------------------------------------------------------------------------------+------------------+------------+-----------+--------+\n",
            "| img/Transformer/encoder_norm/bias                                                                     | (768,)           | 768        | 0.0156    | 0.669  |\n",
            "| img/Transformer/encoder_norm/scale                                                                    | (768,)           | 768        | 2.83      | 0.42   |\n",
            "| img/Transformer/encoderblock_0/LayerNorm_0/bias                                                       | (768,)           | 768        | 0.00364   | 0.216  |\n",
            "| img/Transformer/encoderblock_0/LayerNorm_0/scale                                                      | (768,)           | 768        | 0.479     | 0.652  |\n",
            "| img/Transformer/encoderblock_0/LayerNorm_1/bias                                                       | (768,)           | 768        | 0.0148    | 0.243  |\n",
            "| img/Transformer/encoderblock_0/LayerNorm_1/scale                                                      | (768,)           | 768        | 1.49      | 2.31   |\n",
            "| img/Transformer/encoderblock_0/MlpBlock_0/Dense_0/bias                                                | (3072,)          | 3,072      | -2.17     | 1.25   |\n",
            "| img/Transformer/encoderblock_0/MlpBlock_0/Dense_0/kernel                                              | (768, 3072)      | 2,359,296  | -4.87e-05 | 0.0203 |\n",
            "| img/Transformer/encoderblock_0/MlpBlock_0/Dense_1/bias                                                | (768,)           | 768        | -0.0293   | 0.857  |\n",
            "| img/Transformer/encoderblock_0/MlpBlock_0/Dense_1/kernel                                              | (3072, 768)      | 2,359,296  | -4.37e-05 | 0.0204 |\n",
            "| img/Transformer/encoderblock_0/MultiHeadDotProductAttention_0/key/bias                                | (12, 64)         | 768        | 0.0052    | 0.517  |\n",
            "| img/Transformer/encoderblock_0/MultiHeadDotProductAttention_0/key/kernel                              | (768, 12, 64)    | 589,824    | 3.47e-05  | 0.0305 |\n",
            "| img/Transformer/encoderblock_0/MultiHeadDotProductAttention_0/out/bias                                | (768,)           | 768        | 0.00287   | 0.316  |\n",
            "| img/Transformer/encoderblock_0/MultiHeadDotProductAttention_0/out/kernel                              | (12, 64, 768)    | 589,824    | 1.99e-05  | 0.0189 |\n",
            "| img/Transformer/encoderblock_0/MultiHeadDotProductAttention_0/query/bias                              | (12, 64)         | 768        | -0.0976   | 1.21   |\n",
            "| img/Transformer/encoderblock_0/MultiHeadDotProductAttention_0/query/kernel                            | (768, 12, 64)    | 589,824    | 6.25e-05  | 0.03   |\n",
            "| img/Transformer/encoderblock_0/MultiHeadDotProductAttention_0/value/bias                              | (12, 64)         | 768        | -0.00342  | 0.0574 |\n",
            "| img/Transformer/encoderblock_0/MultiHeadDotProductAttention_0/value/kernel                            | (768, 12, 64)    | 589,824    | 1.58e-05  | 0.0161 |\n",
            "| img/Transformer/encoderblock_1/LayerNorm_0/bias                                                       | (768,)           | 768        | 0.00114   | 0.201  |\n",
            "| img/Transformer/encoderblock_1/LayerNorm_0/scale                                                      | (768,)           | 768        | 0.577     | 0.342  |\n",
            "| img/Transformer/encoderblock_1/LayerNorm_1/bias                                                       | (768,)           | 768        | -0.00644  | 0.252  |\n",
            "| img/Transformer/encoderblock_1/LayerNorm_1/scale                                                      | (768,)           | 768        | 0.93      | 0.62   |\n",
            "| img/Transformer/encoderblock_1/MlpBlock_0/Dense_0/bias                                                | (3072,)          | 3,072      | -1.94     | 1.13   |\n",
            "| img/Transformer/encoderblock_1/MlpBlock_0/Dense_0/kernel                                              | (768, 3072)      | 2,359,296  | 1.62e-05  | 0.0219 |\n",
            "| img/Transformer/encoderblock_1/MlpBlock_0/Dense_1/bias                                                | (768,)           | 768        | -0.0188   | 0.45   |\n",
            "| img/Transformer/encoderblock_1/MlpBlock_0/Dense_1/kernel                                              | (3072, 768)      | 2,359,296  | -4.68e-05 | 0.0195 |\n",
            "| img/Transformer/encoderblock_1/MultiHeadDotProductAttention_0/key/bias                                | (12, 64)         | 768        | 0.00409   | 0.577  |\n",
            "| img/Transformer/encoderblock_1/MultiHeadDotProductAttention_0/key/kernel                              | (768, 12, 64)    | 589,824    | -5.47e-05 | 0.03   |\n",
            "| img/Transformer/encoderblock_1/MultiHeadDotProductAttention_0/out/bias                                | (768,)           | 768        | -0.0102   | 0.522  |\n",
            "| img/Transformer/encoderblock_1/MultiHeadDotProductAttention_0/out/kernel                              | (12, 64, 768)    | 589,824    | -8.04e-06 | 0.0188 |\n",
            "| img/Transformer/encoderblock_1/MultiHeadDotProductAttention_0/query/bias                              | (12, 64)         | 768        | -0.00333  | 0.937  |\n",
            "| img/Transformer/encoderblock_1/MultiHeadDotProductAttention_0/query/kernel                            | (768, 12, 64)    | 589,824    | -3.2e-05  | 0.029  |\n",
            "| img/Transformer/encoderblock_1/MultiHeadDotProductAttention_0/value/bias                              | (12, 64)         | 768        | 0.000525  | 0.0589 |\n",
            "| img/Transformer/encoderblock_1/MultiHeadDotProductAttention_0/value/kernel                            | (768, 12, 64)    | 589,824    | -3.73e-06 | 0.0187 |\n",
            "| img/Transformer/encoderblock_10/LayerNorm_0/bias                                                      | (768,)           | 768        | 0.026     | 0.372  |\n",
            "| img/Transformer/encoderblock_10/LayerNorm_0/scale                                                     | (768,)           | 768        | 1.52      | 0.266  |\n",
            "| img/Transformer/encoderblock_10/LayerNorm_1/bias                                                      | (768,)           | 768        | 0.341     | 3.69   |\n",
            "| img/Transformer/encoderblock_10/LayerNorm_1/scale                                                     | (768,)           | 768        | 12.9      | 1.44   |\n",
            "| img/Transformer/encoderblock_10/MlpBlock_0/Dense_0/bias                                               | (3072,)          | 3,072      | -2.35     | 0.379  |\n",
            "| img/Transformer/encoderblock_10/MlpBlock_0/Dense_0/kernel                                             | (768, 3072)      | 2,359,296  | -0.000734 | 0.0239 |\n",
            "| img/Transformer/encoderblock_10/MlpBlock_0/Dense_1/bias                                               | (768,)           | 768        | -0.00256  | 0.823  |\n",
            "| img/Transformer/encoderblock_10/MlpBlock_0/Dense_1/kernel                                             | (3072, 768)      | 2,359,296  | 0.000145  | 0.029  |\n",
            "| img/Transformer/encoderblock_10/MultiHeadDotProductAttention_0/key/bias                               | (12, 64)         | 768        | 0.0212    | 0.483  |\n",
            "| img/Transformer/encoderblock_10/MultiHeadDotProductAttention_0/key/kernel                             | (768, 12, 64)    | 589,824    | -3.03e-05 | 0.0234 |\n",
            "| img/Transformer/encoderblock_10/MultiHeadDotProductAttention_0/out/bias                               | (768,)           | 768        | 0.00581   | 0.446  |\n",
            "| img/Transformer/encoderblock_10/MultiHeadDotProductAttention_0/out/kernel                             | (12, 64, 768)    | 589,824    | 5.76e-07  | 0.0239 |\n",
            "| img/Transformer/encoderblock_10/MultiHeadDotProductAttention_0/query/bias                             | (12, 64)         | 768        | -0.00684  | 0.722  |\n",
            "| img/Transformer/encoderblock_10/MultiHeadDotProductAttention_0/query/kernel                           | (768, 12, 64)    | 589,824    | 2.64e-05  | 0.023  |\n",
            "| img/Transformer/encoderblock_10/MultiHeadDotProductAttention_0/value/bias                             | (12, 64)         | 768        | 0.00383   | 0.112  |\n",
            "| img/Transformer/encoderblock_10/MultiHeadDotProductAttention_0/value/kernel                           | (768, 12, 64)    | 589,824    | -1.78e-05 | 0.0251 |\n",
            "| img/Transformer/encoderblock_11/LayerNorm_0/bias                                                      | (768,)           | 768        | 0.0345    | 0.563  |\n",
            "| img/Transformer/encoderblock_11/LayerNorm_0/scale                                                     | (768,)           | 768        | 1.56      | 0.249  |\n",
            "| img/Transformer/encoderblock_11/LayerNorm_1/bias                                                      | (768,)           | 768        | 0.00785   | 0.773  |\n",
            "| img/Transformer/encoderblock_11/LayerNorm_1/scale                                                     | (768,)           | 768        | 1.83      | 0.17   |\n",
            "| img/Transformer/encoderblock_11/MlpBlock_0/Dense_0/bias                                               | (3072,)          | 3,072      | -1.99     | 0.585  |\n",
            "| img/Transformer/encoderblock_11/MlpBlock_0/Dense_0/kernel                                             | (768, 3072)      | 2,359,296  | -0.000184 | 0.0239 |\n",
            "| img/Transformer/encoderblock_11/MlpBlock_0/Dense_1/bias                                               | (768,)           | 768        | 0.0356    | 0.813  |\n",
            "| img/Transformer/encoderblock_11/MlpBlock_0/Dense_1/kernel                                             | (3072, 768)      | 2,359,296  | 1.74e-05  | 0.0252 |\n",
            "| img/Transformer/encoderblock_11/MultiHeadDotProductAttention_0/key/bias                               | (12, 64)         | 768        | -0.0142   | 0.464  |\n",
            "| img/Transformer/encoderblock_11/MultiHeadDotProductAttention_0/key/kernel                             | (768, 12, 64)    | 589,824    | 8.66e-06  | 0.0241 |\n",
            "| img/Transformer/encoderblock_11/MultiHeadDotProductAttention_0/out/bias                               | (768,)           | 768        | 0.0271    | 0.974  |\n",
            "| img/Transformer/encoderblock_11/MultiHeadDotProductAttention_0/out/kernel                             | (12, 64, 768)    | 589,824    | -1.33e-06 | 0.0251 |\n",
            "| img/Transformer/encoderblock_11/MultiHeadDotProductAttention_0/query/bias                             | (12, 64)         | 768        | -0.0283   | 0.608  |\n",
            "| img/Transformer/encoderblock_11/MultiHeadDotProductAttention_0/query/kernel                           | (768, 12, 64)    | 589,824    | 1.1e-05   | 0.023  |\n",
            "| img/Transformer/encoderblock_11/MultiHeadDotProductAttention_0/value/bias                             | (12, 64)         | 768        | 0.0065    | 0.186  |\n",
            "| img/Transformer/encoderblock_11/MultiHeadDotProductAttention_0/value/kernel                           | (768, 12, 64)    | 589,824    | 3.94e-05  | 0.0273 |\n",
            "| img/Transformer/encoderblock_2/LayerNorm_0/bias                                                       | (768,)           | 768        | -0.00249  | 0.194  |\n",
            "| img/Transformer/encoderblock_2/LayerNorm_0/scale                                                      | (768,)           | 768        | 0.721     | 0.304  |\n",
            "| img/Transformer/encoderblock_2/LayerNorm_1/bias                                                       | (768,)           | 768        | 0.0129    | 0.228  |\n",
            "| img/Transformer/encoderblock_2/LayerNorm_1/scale                                                      | (768,)           | 768        | 1.14      | 0.448  |\n",
            "| img/Transformer/encoderblock_2/MlpBlock_0/Dense_0/bias                                                | (3072,)          | 3,072      | -1.81     | 0.824  |\n",
            "| img/Transformer/encoderblock_2/MlpBlock_0/Dense_0/kernel                                              | (768, 3072)      | 2,359,296  | 5.89e-05  | 0.022  |\n",
            "| img/Transformer/encoderblock_2/MlpBlock_0/Dense_1/bias                                                | (768,)           | 768        | -0.00659  | 0.28   |\n",
            "| img/Transformer/encoderblock_2/MlpBlock_0/Dense_1/kernel                                              | (3072, 768)      | 2,359,296  | 2.74e-06  | 0.0187 |\n",
            "| img/Transformer/encoderblock_2/MultiHeadDotProductAttention_0/key/bias                                | (12, 64)         | 768        | 0.00162   | 0.536  |\n",
            "| img/Transformer/encoderblock_2/MultiHeadDotProductAttention_0/key/kernel                              | (768, 12, 64)    | 589,824    | 2.21e-05  | 0.0274 |\n",
            "INFO:absl:\n",
            "| img/Transformer/encoderblock_2/MultiHeadDotProductAttention_0/out/bias                                | (768,)           | 768        | -0.00715  | 0.291  |\n",
            "| img/Transformer/encoderblock_2/MultiHeadDotProductAttention_0/out/kernel                              | (12, 64, 768)    | 589,824    | 1.15e-05  | 0.0187 |\n",
            "| img/Transformer/encoderblock_2/MultiHeadDotProductAttention_0/query/bias                              | (12, 64)         | 768        | -0.00435  | 0.808  |\n",
            "| img/Transformer/encoderblock_2/MultiHeadDotProductAttention_0/query/kernel                            | (768, 12, 64)    | 589,824    | 2.73e-05  | 0.0278 |\n",
            "| img/Transformer/encoderblock_2/MultiHeadDotProductAttention_0/value/bias                              | (12, 64)         | 768        | -0.00516  | 0.0618 |\n",
            "| img/Transformer/encoderblock_2/MultiHeadDotProductAttention_0/value/kernel                            | (768, 12, 64)    | 589,824    | 6.66e-06  | 0.0191 |\n",
            "| img/Transformer/encoderblock_3/LayerNorm_0/bias                                                       | (768,)           | 768        | -0.000398 | 0.224  |\n",
            "| img/Transformer/encoderblock_3/LayerNorm_0/scale                                                      | (768,)           | 768        | 0.859     | 0.275  |\n",
            "| img/Transformer/encoderblock_3/LayerNorm_1/bias                                                       | (768,)           | 768        | 0.0115    | 0.263  |\n",
            "| img/Transformer/encoderblock_3/LayerNorm_1/scale                                                      | (768,)           | 768        | 1.12      | 0.257  |\n",
            "| img/Transformer/encoderblock_3/MlpBlock_0/Dense_0/bias                                                | (3072,)          | 3,072      | -1.81     | 0.753  |\n",
            "| img/Transformer/encoderblock_3/MlpBlock_0/Dense_0/kernel                                              | (768, 3072)      | 2,359,296  | 7.85e-05  | 0.0216 |\n",
            "| img/Transformer/encoderblock_3/MlpBlock_0/Dense_1/bias                                                | (768,)           | 768        | -0.00283  | 0.194  |\n",
            "| img/Transformer/encoderblock_3/MlpBlock_0/Dense_1/kernel                                              | (3072, 768)      | 2,359,296  | 5.27e-06  | 0.0188 |\n",
            "| img/Transformer/encoderblock_3/MultiHeadDotProductAttention_0/key/bias                                | (12, 64)         | 768        | -0.000427 | 0.543  |\n",
            "| img/Transformer/encoderblock_3/MultiHeadDotProductAttention_0/key/kernel                              | (768, 12, 64)    | 589,824    | 5.47e-06  | 0.0257 |\n",
            "| img/Transformer/encoderblock_3/MultiHeadDotProductAttention_0/out/bias                                | (768,)           | 768        | -0.0088   | 0.165  |\n",
            "| img/Transformer/encoderblock_3/MultiHeadDotProductAttention_0/out/kernel                              | (12, 64, 768)    | 589,824    | 7.88e-07  | 0.019  |\n",
            "| img/Transformer/encoderblock_3/MultiHeadDotProductAttention_0/query/bias                              | (12, 64)         | 768        | -0.0371   | 0.781  |\n",
            "| img/Transformer/encoderblock_3/MultiHeadDotProductAttention_0/query/kernel                            | (768, 12, 64)    | 589,824    | 5.56e-06  | 0.0261 |\n",
            "| img/Transformer/encoderblock_3/MultiHeadDotProductAttention_0/value/bias                              | (12, 64)         | 768        | 0.0039    | 0.0784 |\n",
            "| img/Transformer/encoderblock_3/MultiHeadDotProductAttention_0/value/kernel                            | (768, 12, 64)    | 589,824    | -3.02e-05 | 0.0198 |\n",
            "| img/Transformer/encoderblock_4/LayerNorm_0/bias                                                       | (768,)           | 768        | 0.000815  | 0.21   |\n",
            "| img/Transformer/encoderblock_4/LayerNorm_0/scale                                                      | (768,)           | 768        | 0.91      | 0.279  |\n",
            "| img/Transformer/encoderblock_4/LayerNorm_1/bias                                                       | (768,)           | 768        | 0.0128    | 0.256  |\n",
            "| img/Transformer/encoderblock_4/LayerNorm_1/scale                                                      | (768,)           | 768        | 1.14      | 0.209  |\n",
            "| img/Transformer/encoderblock_4/MlpBlock_0/Dense_0/bias                                                | (3072,)          | 3,072      | -1.7      | 0.642  |\n",
            "| img/Transformer/encoderblock_4/MlpBlock_0/Dense_0/kernel                                              | (768, 3072)      | 2,359,296  | 0.000135  | 0.0214 |\n",
            "| img/Transformer/encoderblock_4/MlpBlock_0/Dense_1/bias                                                | (768,)           | 768        | -0.00268  | 0.149  |\n",
            "| img/Transformer/encoderblock_4/MlpBlock_0/Dense_1/kernel                                              | (3072, 768)      | 2,359,296  | -9.72e-07 | 0.0189 |\n",
            "| img/Transformer/encoderblock_4/MultiHeadDotProductAttention_0/key/bias                                | (12, 64)         | 768        | 0.0218    | 0.562  |\n",
            "| img/Transformer/encoderblock_4/MultiHeadDotProductAttention_0/key/kernel                              | (768, 12, 64)    | 589,824    | 2e-05     | 0.025  |\n",
            "| img/Transformer/encoderblock_4/MultiHeadDotProductAttention_0/out/bias                                | (768,)           | 768        | -0.0103   | 0.154  |\n",
            "| img/Transformer/encoderblock_4/MultiHeadDotProductAttention_0/out/kernel                              | (12, 64, 768)    | 589,824    | 5.23e-06  | 0.019  |\n",
            "| img/Transformer/encoderblock_4/MultiHeadDotProductAttention_0/query/bias                              | (12, 64)         | 768        | 0.0216    | 0.725  |\n",
            "| img/Transformer/encoderblock_4/MultiHeadDotProductAttention_0/query/kernel                            | (768, 12, 64)    | 589,824    | 1.28e-05  | 0.0253 |\n",
            "| img/Transformer/encoderblock_4/MultiHeadDotProductAttention_0/value/bias                              | (12, 64)         | 768        | -0.000919 | 0.0754 |\n",
            "| img/Transformer/encoderblock_4/MultiHeadDotProductAttention_0/value/kernel                            | (768, 12, 64)    | 589,824    | -1.21e-05 | 0.0195 |\n",
            "| img/Transformer/encoderblock_5/LayerNorm_0/bias                                                       | (768,)           | 768        | 0.004     | 0.199  |\n",
            "| img/Transformer/encoderblock_5/LayerNorm_0/scale                                                      | (768,)           | 768        | 0.937     | 0.325  |\n",
            "| img/Transformer/encoderblock_5/LayerNorm_1/bias                                                       | (768,)           | 768        | 0.00563   | 0.288  |\n",
            "| img/Transformer/encoderblock_5/LayerNorm_1/scale                                                      | (768,)           | 768        | 1.22      | 0.231  |\n",
            "| img/Transformer/encoderblock_5/MlpBlock_0/Dense_0/bias                                                | (3072,)          | 3,072      | -1.78     | 0.594  |\n",
            "| img/Transformer/encoderblock_5/MlpBlock_0/Dense_0/kernel                                              | (768, 3072)      | 2,359,296  | 2.95e-05  | 0.0216 |\n",
            "| img/Transformer/encoderblock_5/MlpBlock_0/Dense_1/bias                                                | (768,)           | 768        | -0.00481  | 0.16   |\n",
            "| img/Transformer/encoderblock_5/MlpBlock_0/Dense_1/kernel                                              | (3072, 768)      | 2,359,296  | -1.36e-06 | 0.0198 |\n",
            "| img/Transformer/encoderblock_5/MultiHeadDotProductAttention_0/key/bias                                | (12, 64)         | 768        | 0.0157    | 0.535  |\n",
            "| img/Transformer/encoderblock_5/MultiHeadDotProductAttention_0/key/kernel                              | (768, 12, 64)    | 589,824    | 2.92e-05  | 0.0234 |\n",
            "| img/Transformer/encoderblock_5/MultiHeadDotProductAttention_0/out/bias                                | (768,)           | 768        | -0.0106   | 0.149  |\n",
            "| img/Transformer/encoderblock_5/MultiHeadDotProductAttention_0/out/kernel                              | (12, 64, 768)    | 589,824    | 1.08e-06  | 0.0204 |\n",
            "| img/Transformer/encoderblock_5/MultiHeadDotProductAttention_0/query/bias                              | (12, 64)         | 768        | -0.00102  | 0.668  |\n",
            "| img/Transformer/encoderblock_5/MultiHeadDotProductAttention_0/query/kernel                            | (768, 12, 64)    | 589,824    | 3.46e-05  | 0.0239 |\n",
            "| img/Transformer/encoderblock_5/MultiHeadDotProductAttention_0/value/bias                              | (12, 64)         | 768        | 0.0078    | 0.0672 |\n",
            "| img/Transformer/encoderblock_5/MultiHeadDotProductAttention_0/value/kernel                            | (768, 12, 64)    | 589,824    | -7.83e-07 | 0.0212 |\n",
            "| img/Transformer/encoderblock_6/LayerNorm_0/bias                                                       | (768,)           | 768        | 0.00578   | 0.175  |\n",
            "| img/Transformer/encoderblock_6/LayerNorm_0/scale                                                      | (768,)           | 768        | 0.971     | 0.349  |\n",
            "| img/Transformer/encoderblock_6/LayerNorm_1/bias                                                       | (768,)           | 768        | 0.00789   | 0.278  |\n",
            "| img/Transformer/encoderblock_6/LayerNorm_1/scale                                                      | (768,)           | 768        | 1.3       | 0.22   |\n",
            "| img/Transformer/encoderblock_6/MlpBlock_0/Dense_0/bias                                                | (3072,)          | 3,072      | -1.82     | 0.551  |\n",
            "| img/Transformer/encoderblock_6/MlpBlock_0/Dense_0/kernel                                              | (768, 3072)      | 2,359,296  | 4.07e-05  | 0.0216 |\n",
            "| img/Transformer/encoderblock_6/MlpBlock_0/Dense_1/bias                                                | (768,)           | 768        | -0.00527  | 0.191  |\n",
            "| img/Transformer/encoderblock_6/MlpBlock_0/Dense_1/kernel                                              | (3072, 768)      | 2,359,296  | -7.42e-06 | 0.021  |\n",
            "| img/Transformer/encoderblock_6/MultiHeadDotProductAttention_0/key/bias                                | (12, 64)         | 768        | 0.0274    | 0.523  |\n",
            "| img/Transformer/encoderblock_6/MultiHeadDotProductAttention_0/key/kernel                              | (768, 12, 64)    | 589,824    | -9.41e-06 | 0.0228 |\n",
            "| img/Transformer/encoderblock_6/MultiHeadDotProductAttention_0/out/bias                                | (768,)           | 768        | -0.00814  | 0.153  |\n",
            "| img/Transformer/encoderblock_6/MultiHeadDotProductAttention_0/out/kernel                              | (12, 64, 768)    | 589,824    | 5.8e-06   | 0.0213 |\n",
            "| img/Transformer/encoderblock_6/MultiHeadDotProductAttention_0/query/bias                              | (12, 64)         | 768        | -0.0326   | 0.634  |\n",
            "| img/Transformer/encoderblock_6/MultiHeadDotProductAttention_0/query/kernel                            | (768, 12, 64)    | 589,824    | -4.62e-06 | 0.0231 |\n",
            "| img/Transformer/encoderblock_6/MultiHeadDotProductAttention_0/value/bias                              | (12, 64)         | 768        | 0.00246   | 0.0661 |\n",
            "| img/Transformer/encoderblock_6/MultiHeadDotProductAttention_0/value/kernel                            | (768, 12, 64)    | 589,824    | -3.42e-06 | 0.0221 |\n",
            "| img/Transformer/encoderblock_7/LayerNorm_0/bias                                                       | (768,)           | 768        | 0.00394   | 0.19   |\n",
            "| img/Transformer/encoderblock_7/LayerNorm_0/scale                                                      | (768,)           | 768        | 1.04      | 0.357  |\n",
            "| img/Transformer/encoderblock_7/LayerNorm_1/bias                                                       | (768,)           | 768        | 0.0107    | 0.298  |\n",
            "| img/Transformer/encoderblock_7/LayerNorm_1/scale                                                      | (768,)           | 768        | 1.46      | 0.211  |\n",
            "| img/Transformer/encoderblock_7/MlpBlock_0/Dense_0/bias                                                | (3072,)          | 3,072      | -1.97     | 0.549  |\n",
            "| img/Transformer/encoderblock_7/MlpBlock_0/Dense_0/kernel                                              | (768, 3072)      | 2,359,296  | -4.23e-05 | 0.0215 |\n",
            "| img/Transformer/encoderblock_7/MlpBlock_0/Dense_1/bias                                                | (768,)           | 768        | -0.00318  | 0.452  |\n",
            "| img/Transformer/encoderblock_7/MlpBlock_0/Dense_1/kernel                                              | (3072, 768)      | 2,359,296  | 1.13e-05  | 0.0228 |\n",
            "| img/Transformer/encoderblock_7/MultiHeadDotProductAttention_0/key/bias                                | (12, 64)         | 768        | 0.0143    | 0.525  |\n",
            "| img/Transformer/encoderblock_7/MultiHeadDotProductAttention_0/key/kernel                              | (768, 12, 64)    | 589,824    | 1.5e-05   | 0.0227 |\n",
            "INFO:absl:\n",
            "| img/Transformer/encoderblock_7/MultiHeadDotProductAttention_0/out/bias                                | (768,)           | 768        | -0.00723  | 0.188  |\n",
            "| img/Transformer/encoderblock_7/MultiHeadDotProductAttention_0/out/kernel                              | (12, 64, 768)    | 589,824    | 9.01e-06  | 0.0218 |\n",
            "| img/Transformer/encoderblock_7/MultiHeadDotProductAttention_0/query/bias                              | (12, 64)         | 768        | 0.0222    | 0.576  |\n",
            "| img/Transformer/encoderblock_7/MultiHeadDotProductAttention_0/query/kernel                            | (768, 12, 64)    | 589,824    | 7.02e-06  | 0.0229 |\n",
            "| img/Transformer/encoderblock_7/MultiHeadDotProductAttention_0/value/bias                              | (12, 64)         | 768        | 0.0016    | 0.0952 |\n",
            "| img/Transformer/encoderblock_7/MultiHeadDotProductAttention_0/value/kernel                            | (768, 12, 64)    | 589,824    | -4.78e-06 | 0.0225 |\n",
            "| img/Transformer/encoderblock_8/LayerNorm_0/bias                                                       | (768,)           | 768        | 0.00784   | 0.224  |\n",
            "| img/Transformer/encoderblock_8/LayerNorm_0/scale                                                      | (768,)           | 768        | 1.13      | 0.296  |\n",
            "| img/Transformer/encoderblock_8/LayerNorm_1/bias                                                       | (768,)           | 768        | 0.108     | 0.646  |\n",
            "| img/Transformer/encoderblock_8/LayerNorm_1/scale                                                      | (768,)           | 768        | 3.29      | 0.521  |\n",
            "| img/Transformer/encoderblock_8/MlpBlock_0/Dense_0/bias                                                | (3072,)          | 3,072      | -2.01     | 0.613  |\n",
            "| img/Transformer/encoderblock_8/MlpBlock_0/Dense_0/kernel                                              | (768, 3072)      | 2,359,296  | -0.000557 | 0.0217 |\n",
            "| img/Transformer/encoderblock_8/MlpBlock_0/Dense_1/bias                                                | (768,)           | 768        | -0.00247  | 0.407  |\n",
            "| img/Transformer/encoderblock_8/MlpBlock_0/Dense_1/kernel                                              | (3072, 768)      | 2,359,296  | 1.16e-05  | 0.0236 |\n",
            "| img/Transformer/encoderblock_8/MultiHeadDotProductAttention_0/key/bias                                | (12, 64)         | 768        | -0.00489  | 0.508  |\n",
            "| img/Transformer/encoderblock_8/MultiHeadDotProductAttention_0/key/kernel                              | (768, 12, 64)    | 589,824    | 9.53e-06  | 0.0228 |\n",
            "| img/Transformer/encoderblock_8/MultiHeadDotProductAttention_0/out/bias                                | (768,)           | 768        | -0.00214  | 0.455  |\n",
            "| img/Transformer/encoderblock_8/MultiHeadDotProductAttention_0/out/kernel                              | (12, 64, 768)    | 589,824    | -3.41e-06 | 0.022  |\n",
            "| img/Transformer/encoderblock_8/MultiHeadDotProductAttention_0/query/bias                              | (12, 64)         | 768        | 0.0533    | 0.646  |\n",
            "| img/Transformer/encoderblock_8/MultiHeadDotProductAttention_0/query/kernel                            | (768, 12, 64)    | 589,824    | 2.5e-05   | 0.0225 |\n",
            "| img/Transformer/encoderblock_8/MultiHeadDotProductAttention_0/value/bias                              | (12, 64)         | 768        | -0.000388 | 0.125  |\n",
            "| img/Transformer/encoderblock_8/MultiHeadDotProductAttention_0/value/kernel                            | (768, 12, 64)    | 589,824    | 1.94e-05  | 0.0229 |\n",
            "| img/Transformer/encoderblock_9/LayerNorm_0/bias                                                       | (768,)           | 768        | 0.0155    | 0.265  |\n",
            "| img/Transformer/encoderblock_9/LayerNorm_0/scale                                                      | (768,)           | 768        | 1.31      | 0.255  |\n",
            "| img/Transformer/encoderblock_9/LayerNorm_1/bias                                                       | (768,)           | 768        | 0.297     | 1.35   |\n",
            "| img/Transformer/encoderblock_9/LayerNorm_1/scale                                                      | (768,)           | 768        | 7.01      | 0.96   |\n",
            "| img/Transformer/encoderblock_9/MlpBlock_0/Dense_0/bias                                                | (3072,)          | 3,072      | -2.14     | 0.514  |\n",
            "| img/Transformer/encoderblock_9/MlpBlock_0/Dense_0/kernel                                              | (768, 3072)      | 2,359,296  | -0.000968 | 0.0227 |\n",
            "| img/Transformer/encoderblock_9/MlpBlock_0/Dense_1/bias                                                | (768,)           | 768        | -0.00751  | 0.479  |\n",
            "| img/Transformer/encoderblock_9/MlpBlock_0/Dense_1/kernel                                              | (3072, 768)      | 2,359,296  | -1.9e-06  | 0.0251 |\n",
            "| img/Transformer/encoderblock_9/MultiHeadDotProductAttention_0/key/bias                                | (12, 64)         | 768        | -0.00403  | 0.497  |\n",
            "| img/Transformer/encoderblock_9/MultiHeadDotProductAttention_0/key/kernel                              | (768, 12, 64)    | 589,824    | 1.15e-05  | 0.0224 |\n",
            "| img/Transformer/encoderblock_9/MultiHeadDotProductAttention_0/out/bias                                | (768,)           | 768        | -0.000966 | 0.233  |\n",
            "| img/Transformer/encoderblock_9/MultiHeadDotProductAttention_0/out/kernel                              | (12, 64, 768)    | 589,824    | 3.96e-06  | 0.0227 |\n",
            "| img/Transformer/encoderblock_9/MultiHeadDotProductAttention_0/query/bias                              | (12, 64)         | 768        | 0.00383   | 0.759  |\n",
            "| img/Transformer/encoderblock_9/MultiHeadDotProductAttention_0/query/kernel                            | (768, 12, 64)    | 589,824    | 2.61e-05  | 0.0221 |\n",
            "| img/Transformer/encoderblock_9/MultiHeadDotProductAttention_0/value/bias                              | (12, 64)         | 768        | 0.00333   | 0.111  |\n",
            "| img/Transformer/encoderblock_9/MultiHeadDotProductAttention_0/value/kernel                            | (768, 12, 64)    | 589,824    | 1.24e-05  | 0.024  |\n",
            "| img/cls                                                                                               | (1, 1, 768)      | 768        | 0.0472    | 0.959  |\n",
            "| img/embedding/bias                                                                                    | (768,)           | 768        | -0.00594  | 0.185  |\n",
            "| img/embedding/kernel                                                                                  | (16, 16, 3, 768) | 589,824    | 7.7e-06   | 0.0157 |\n",
            "| img/head/bias                                                                                         | (768,)           | 768        | -0.00346  | 1.43   |\n",
            "| img/head/kernel                                                                                       | (768, 768)       | 589,824    | 5.02e-06  | 0.0398 |\n",
            "| img/pos_embedding                                                                                     | (1, 196, 768)    | 150,528    | -0.00125  | 0.344  |\n",
            "| t                                                                                                     | (1,)             | 1          | 4.39      | 0.0    |\n",
            "| txt/BertEncoder_0/embedder/embedders_position_ids/embedding                                           | (512, 768)       | 393,216    | -5.31e-05 | 0.0191 |\n",
            "| txt/BertEncoder_0/embedder/embedders_segment_ids/embedding                                            | (2, 768)         | 1,536      | -0.00186  | 0.0445 |\n",
            "| txt/BertEncoder_0/embedder/embedders_token_ids/embedding                                              | (30522, 768)     | 23,440,896 | -0.0278   | 0.0966 |\n",
            "| txt/BertEncoder_0/encoder_block/layer_sequence/layers_0/attention_block/attention_layer/key/bias      | (768,)           | 768        | 0.00173   | 0.0804 |\n",
            "| txt/BertEncoder_0/encoder_block/layer_sequence/layers_0/attention_block/attention_layer/key/kernel    | (768, 768)       | 589,824    | -5.01e-05 | 0.0453 |\n",
            "| txt/BertEncoder_0/encoder_block/layer_sequence/layers_0/attention_block/attention_layer/query/bias    | (768,)           | 768        | 0.0172    | 0.487  |\n",
            "| txt/BertEncoder_0/encoder_block/layer_sequence/layers_0/attention_block/attention_layer/query/kernel  | (768, 768)       | 589,824    | -8.24e-07 | 0.0453 |\n",
            "| txt/BertEncoder_0/encoder_block/layer_sequence/layers_0/attention_block/attention_layer/value/bias    | (768,)           | 768        | 0.000783  | 0.0517 |\n",
            "| txt/BertEncoder_0/encoder_block/layer_sequence/layers_0/attention_block/attention_layer/value/kernel  | (768, 768)       | 589,824    | -1.96e-05 | 0.031  |\n",
            "| txt/BertEncoder_0/encoder_block/layer_sequence/layers_0/attention_block/dense_layer/bias              | (768,)           | 768        | -0.00214  | 0.0456 |\n",
            "| txt/BertEncoder_0/encoder_block/layer_sequence/layers_0/attention_block/dense_layer/kernel            | (768, 768)       | 589,824    | -2.01e-05 | 0.0311 |\n",
            "| txt/BertEncoder_0/encoder_block/layer_sequence/layers_0/attention_block/layer_norm/bias               | (768,)           | 768        | -0.023    | 0.352  |\n",
            "| txt/BertEncoder_0/encoder_block/layer_sequence/layers_0/attention_block/layer_norm/scale              | (768,)           | 768        | 0.982     | 0.172  |\n",
            "| txt/BertEncoder_0/encoder_block/layer_sequence/layers_0/mlp_block/dense_layer/bias                    | (768,)           | 768        | -0.00283  | 0.0899 |\n",
            "| txt/BertEncoder_0/encoder_block/layer_sequence/layers_0/mlp_block/dense_layer/kernel                  | (3072, 768)      | 2,359,296  | -0.000185 | 0.0384 |\n",
            "| txt/BertEncoder_0/encoder_block/layer_sequence/layers_0/mlp_block/layer_norm/bias                     | (768,)           | 768        | -0.0371   | 0.0578 |\n",
            "| txt/BertEncoder_0/encoder_block/layer_sequence/layers_0/mlp_block/layer_norm/scale                    | (768,)           | 768        | 0.716     | 0.0649 |\n",
            "| txt/BertEncoder_0/encoder_block/layer_sequence/layers_0/mlp_block/mlp/dense_layer/bias                | (3072,)          | 3,072      | -0.209    | 0.0789 |\n",
            "| txt/BertEncoder_0/encoder_block/layer_sequence/layers_0/mlp_block/mlp/dense_layer/kernel              | (768, 3072)      | 2,359,296  | 0.000162  | 0.0395 |\n",
            "| txt/BertEncoder_0/encoder_block/layer_sequence/layers_1/attention_block/attention_layer/key/bias      | (768,)           | 768        | -0.00332  | 0.0765 |\n",
            "| txt/BertEncoder_0/encoder_block/layer_sequence/layers_1/attention_block/attention_layer/key/kernel    | (768, 768)       | 589,824    | 1.99e-05  | 0.0446 |\n",
            "| txt/BertEncoder_0/encoder_block/layer_sequence/layers_1/attention_block/attention_layer/query/bias    | (768,)           | 768        | 0.018     | 0.266  |\n",
            "| txt/BertEncoder_0/encoder_block/layer_sequence/layers_1/attention_block/attention_layer/query/kernel  | (768, 768)       | 589,824    | -0.000109 | 0.0444 |\n",
            "| txt/BertEncoder_0/encoder_block/layer_sequence/layers_1/attention_block/attention_layer/value/bias    | (768,)           | 768        | 0.000419  | 0.0381 |\n",
            "| txt/BertEncoder_0/encoder_block/layer_sequence/layers_1/attention_block/attention_layer/value/kernel  | (768, 768)       | 589,824    | -9.83e-06 | 0.0322 |\n",
            "| txt/BertEncoder_0/encoder_block/layer_sequence/layers_1/attention_block/dense_layer/bias              | (768,)           | 768        | -0.000375 | 0.0332 |\n",
            "| txt/BertEncoder_0/encoder_block/layer_sequence/layers_1/attention_block/dense_layer/kernel            | (768, 768)       | 589,824    | -1.98e-05 | 0.0311 |\n",
            "| txt/BertEncoder_0/encoder_block/layer_sequence/layers_1/attention_block/layer_norm/bias               | (768,)           | 768        | -0.0277   | 0.177  |\n",
            "| txt/BertEncoder_0/encoder_block/layer_sequence/layers_1/attention_block/layer_norm/scale              | (768,)           | 768        | 0.929     | 0.107  |\n",
            "| txt/BertEncoder_0/encoder_block/layer_sequence/layers_1/mlp_block/dense_layer/bias                    | (768,)           | 768        | -0.00157  | 0.054  |\n",
            "| txt/BertEncoder_0/encoder_block/layer_sequence/layers_1/mlp_block/dense_layer/kernel                  | (3072, 768)      | 2,359,296  | -7.92e-05 | 0.0389 |\n",
            "| txt/BertEncoder_0/encoder_block/layer_sequence/layers_1/mlp_block/layer_norm/bias                     | (768,)           | 768        | -0.0381   | 0.0436 |\n",
            "| txt/BertEncoder_0/encoder_block/layer_sequence/layers_1/mlp_block/layer_norm/scale                    | (768,)           | 768        | 0.85      | 0.0859 |\n",
            "| txt/BertEncoder_0/encoder_block/layer_sequence/layers_1/mlp_block/mlp/dense_layer/bias                | (3072,)          | 3,072      | -0.18     | 0.0889 |\n",
            "| txt/BertEncoder_0/encoder_block/layer_sequence/layers_1/mlp_block/mlp/dense_layer/kernel              | (768, 3072)      | 2,359,296  | 0.000555  | 0.0409 |\n",
            "INFO:absl:\n",
            "| txt/BertEncoder_0/encoder_block/layer_sequence/layers_10/attention_block/attention_layer/key/bias     | (768,)           | 768        | -0.00276  | 0.0785 |\n",
            "| txt/BertEncoder_0/encoder_block/layer_sequence/layers_10/attention_block/attention_layer/key/kernel   | (768, 768)       | 589,824    | -1.02e-05 | 0.0451 |\n",
            "| txt/BertEncoder_0/encoder_block/layer_sequence/layers_10/attention_block/attention_layer/query/bias   | (768,)           | 768        | -0.00648  | 0.277  |\n",
            "| txt/BertEncoder_0/encoder_block/layer_sequence/layers_10/attention_block/attention_layer/query/kernel | (768, 768)       | 589,824    | -4.15e-05 | 0.0446 |\n",
            "| txt/BertEncoder_0/encoder_block/layer_sequence/layers_10/attention_block/attention_layer/value/bias   | (768,)           | 768        | 0.000935  | 0.0378 |\n",
            "| txt/BertEncoder_0/encoder_block/layer_sequence/layers_10/attention_block/attention_layer/value/kernel | (768, 768)       | 589,824    | -1.83e-06 | 0.0298 |\n",
            "| txt/BertEncoder_0/encoder_block/layer_sequence/layers_10/attention_block/dense_layer/bias             | (768,)           | 768        | 0.000223  | 0.0434 |\n",
            "| txt/BertEncoder_0/encoder_block/layer_sequence/layers_10/attention_block/dense_layer/kernel           | (768, 768)       | 589,824    | -7.34e-06 | 0.0299 |\n",
            "| txt/BertEncoder_0/encoder_block/layer_sequence/layers_10/attention_block/layer_norm/bias              | (768,)           | 768        | -0.0451   | 0.204  |\n",
            "| txt/BertEncoder_0/encoder_block/layer_sequence/layers_10/attention_block/layer_norm/scale             | (768,)           | 768        | 0.689     | 0.109  |\n",
            "| txt/BertEncoder_0/encoder_block/layer_sequence/layers_10/mlp_block/dense_layer/bias                   | (768,)           | 768        | -0.00139  | 0.107  |\n",
            "| txt/BertEncoder_0/encoder_block/layer_sequence/layers_10/mlp_block/dense_layer/kernel                 | (3072, 768)      | 2,359,296  | 6.03e-05  | 0.0434 |\n",
            "| txt/BertEncoder_0/encoder_block/layer_sequence/layers_10/mlp_block/layer_norm/bias                    | (768,)           | 768        | -0.0359   | 0.0716 |\n",
            "| txt/BertEncoder_0/encoder_block/layer_sequence/layers_10/mlp_block/layer_norm/scale                   | (768,)           | 768        | 0.88      | 0.0729 |\n",
            "| txt/BertEncoder_0/encoder_block/layer_sequence/layers_10/mlp_block/mlp/dense_layer/bias               | (3072,)          | 3,072      | -0.213    | 0.0613 |\n",
            "| txt/BertEncoder_0/encoder_block/layer_sequence/layers_10/mlp_block/mlp/dense_layer/kernel             | (768, 3072)      | 2,359,296  | 0.00169   | 0.0427 |\n",
            "| txt/BertEncoder_0/encoder_block/layer_sequence/layers_11/attention_block/attention_layer/key/bias     | (768,)           | 768        | -0.00566  | 0.0766 |\n",
            "| txt/BertEncoder_0/encoder_block/layer_sequence/layers_11/attention_block/attention_layer/key/kernel   | (768, 768)       | 589,824    | 0.000108  | 0.0482 |\n",
            "| txt/BertEncoder_0/encoder_block/layer_sequence/layers_11/attention_block/attention_layer/query/bias   | (768,)           | 768        | 0.0135    | 0.268  |\n",
            "| txt/BertEncoder_0/encoder_block/layer_sequence/layers_11/attention_block/attention_layer/query/kernel | (768, 768)       | 589,824    | -3.91e-05 | 0.0484 |\n",
            "| txt/BertEncoder_0/encoder_block/layer_sequence/layers_11/attention_block/attention_layer/value/bias   | (768,)           | 768        | -2.05e-05 | 0.016  |\n",
            "| txt/BertEncoder_0/encoder_block/layer_sequence/layers_11/attention_block/attention_layer/value/kernel | (768, 768)       | 589,824    | -1.32e-05 | 0.0346 |\n",
            "| txt/BertEncoder_0/encoder_block/layer_sequence/layers_11/attention_block/dense_layer/bias             | (768,)           | 768        | -4.59e-05 | 0.0201 |\n",
            "| txt/BertEncoder_0/encoder_block/layer_sequence/layers_11/attention_block/dense_layer/kernel           | (768, 768)       | 589,824    | 9.95e-08  | 0.0344 |\n",
            "| txt/BertEncoder_0/encoder_block/layer_sequence/layers_11/attention_block/layer_norm/bias              | (768,)           | 768        | -0.0645   | 0.147  |\n",
            "| txt/BertEncoder_0/encoder_block/layer_sequence/layers_11/attention_block/layer_norm/scale             | (768,)           | 768        | 0.711     | 0.0417 |\n",
            "| txt/BertEncoder_0/encoder_block/layer_sequence/layers_11/mlp_block/dense_layer/bias                   | (768,)           | 768        | -0.00111  | 0.0884 |\n",
            "| txt/BertEncoder_0/encoder_block/layer_sequence/layers_11/mlp_block/dense_layer/kernel                 | (3072, 768)      | 2,359,296  | -1.39e-05 | 0.0346 |\n",
            "| txt/BertEncoder_0/encoder_block/layer_sequence/layers_11/mlp_block/layer_norm/bias                    | (768,)           | 768        | -0.0794   | 0.116  |\n",
            "| txt/BertEncoder_0/encoder_block/layer_sequence/layers_11/mlp_block/layer_norm/scale                   | (768,)           | 768        | 0.616     | 0.0297 |\n",
            "| txt/BertEncoder_0/encoder_block/layer_sequence/layers_11/mlp_block/mlp/dense_layer/bias               | (3072,)          | 3,072      | -0.172    | 0.0627 |\n",
            "| txt/BertEncoder_0/encoder_block/layer_sequence/layers_11/mlp_block/mlp/dense_layer/kernel             | (768, 3072)      | 2,359,296  | 0.0027    | 0.0366 |\n",
            "| txt/BertEncoder_0/encoder_block/layer_sequence/layers_2/attention_block/attention_layer/key/bias      | (768,)           | 768        | 0.00158   | 0.0787 |\n",
            "| txt/BertEncoder_0/encoder_block/layer_sequence/layers_2/attention_block/attention_layer/key/kernel    | (768, 768)       | 589,824    | 3.48e-05  | 0.0444 |\n",
            "| txt/BertEncoder_0/encoder_block/layer_sequence/layers_2/attention_block/attention_layer/query/bias    | (768,)           | 768        | 0.00346   | 0.193  |\n",
            "| txt/BertEncoder_0/encoder_block/layer_sequence/layers_2/attention_block/attention_layer/query/kernel  | (768, 768)       | 589,824    | 2.12e-06  | 0.0442 |\n",
            "| txt/BertEncoder_0/encoder_block/layer_sequence/layers_2/attention_block/attention_layer/value/bias    | (768,)           | 768        | 0.00371   | 0.0626 |\n",
            "| txt/BertEncoder_0/encoder_block/layer_sequence/layers_2/attention_block/attention_layer/value/kernel  | (768, 768)       | 589,824    | -4.83e-06 | 0.0303 |\n",
            "| txt/BertEncoder_0/encoder_block/layer_sequence/layers_2/attention_block/dense_layer/bias              | (768,)           | 768        | -2.89e-05 | 0.0633 |\n",
            "| txt/BertEncoder_0/encoder_block/layer_sequence/layers_2/attention_block/dense_layer/kernel            | (768, 768)       | 589,824    | -9.67e-06 | 0.0292 |\n",
            "| txt/BertEncoder_0/encoder_block/layer_sequence/layers_2/attention_block/layer_norm/bias               | (768,)           | 768        | -0.0236   | 0.166  |\n",
            "| txt/BertEncoder_0/encoder_block/layer_sequence/layers_2/attention_block/layer_norm/scale              | (768,)           | 768        | 0.905     | 0.0763 |\n",
            "| txt/BertEncoder_0/encoder_block/layer_sequence/layers_2/mlp_block/dense_layer/bias                    | (768,)           | 768        | -0.00248  | 0.0592 |\n",
            "| txt/BertEncoder_0/encoder_block/layer_sequence/layers_2/mlp_block/dense_layer/kernel                  | (3072, 768)      | 2,359,296  | -7.06e-05 | 0.0394 |\n",
            "| txt/BertEncoder_0/encoder_block/layer_sequence/layers_2/mlp_block/layer_norm/bias                     | (768,)           | 768        | -0.036    | 0.0455 |\n",
            "| txt/BertEncoder_0/encoder_block/layer_sequence/layers_2/mlp_block/layer_norm/scale                    | (768,)           | 768        | 0.802     | 0.0567 |\n",
            "| txt/BertEncoder_0/encoder_block/layer_sequence/layers_2/mlp_block/mlp/dense_layer/bias                | (3072,)          | 3,072      | -0.18     | 0.0884 |\n",
            "| txt/BertEncoder_0/encoder_block/layer_sequence/layers_2/mlp_block/mlp/dense_layer/kernel              | (768, 3072)      | 2,359,296  | 0.000542  | 0.0415 |\n",
            "| txt/BertEncoder_0/encoder_block/layer_sequence/layers_3/attention_block/attention_layer/key/bias      | (768,)           | 768        | -0.00127  | 0.0755 |\n",
            "| txt/BertEncoder_0/encoder_block/layer_sequence/layers_3/attention_block/attention_layer/key/kernel    | (768, 768)       | 589,824    | 3.12e-05  | 0.0414 |\n",
            "| txt/BertEncoder_0/encoder_block/layer_sequence/layers_3/attention_block/attention_layer/query/bias    | (768,)           | 768        | -0.0105   | 0.204  |\n",
            "| txt/BertEncoder_0/encoder_block/layer_sequence/layers_3/attention_block/attention_layer/query/kernel  | (768, 768)       | 589,824    | 3.34e-05  | 0.0416 |\n",
            "| txt/BertEncoder_0/encoder_block/layer_sequence/layers_3/attention_block/attention_layer/value/bias    | (768,)           | 768        | 0.00178   | 0.0306 |\n",
            "| txt/BertEncoder_0/encoder_block/layer_sequence/layers_3/attention_block/attention_layer/value/kernel  | (768, 768)       | 589,824    | -1.34e-05 | 0.0303 |\n",
            "| txt/BertEncoder_0/encoder_block/layer_sequence/layers_3/attention_block/dense_layer/bias              | (768,)           | 768        | -0.00116  | 0.0364 |\n",
            "| txt/BertEncoder_0/encoder_block/layer_sequence/layers_3/attention_block/dense_layer/kernel            | (768, 768)       | 589,824    | 1.66e-05  | 0.0297 |\n",
            "| txt/BertEncoder_0/encoder_block/layer_sequence/layers_3/attention_block/layer_norm/bias               | (768,)           | 768        | -0.0146   | 0.149  |\n",
            "| txt/BertEncoder_0/encoder_block/layer_sequence/layers_3/attention_block/layer_norm/scale              | (768,)           | 768        | 0.897     | 0.217  |\n",
            "| txt/BertEncoder_0/encoder_block/layer_sequence/layers_3/mlp_block/dense_layer/bias                    | (768,)           | 768        | -0.00258  | 0.0632 |\n",
            "| txt/BertEncoder_0/encoder_block/layer_sequence/layers_3/mlp_block/dense_layer/kernel                  | (3072, 768)      | 2,359,296  | -4.58e-05 | 0.0396 |\n",
            "| txt/BertEncoder_0/encoder_block/layer_sequence/layers_3/mlp_block/layer_norm/bias                     | (768,)           | 768        | -0.0281   | 0.0433 |\n",
            "| txt/BertEncoder_0/encoder_block/layer_sequence/layers_3/mlp_block/layer_norm/scale                    | (768,)           | 768        | 0.736     | 0.047  |\n",
            "| txt/BertEncoder_0/encoder_block/layer_sequence/layers_3/mlp_block/mlp/dense_layer/bias                | (3072,)          | 3,072      | -0.18     | 0.0783 |\n",
            "| txt/BertEncoder_0/encoder_block/layer_sequence/layers_3/mlp_block/mlp/dense_layer/kernel              | (768, 3072)      | 2,359,296  | 0.000188  | 0.0418 |\n",
            "| txt/BertEncoder_0/encoder_block/layer_sequence/layers_4/attention_block/attention_layer/key/bias      | (768,)           | 768        | 0.0025    | 0.0828 |\n",
            "| txt/BertEncoder_0/encoder_block/layer_sequence/layers_4/attention_block/attention_layer/key/kernel    | (768, 768)       | 589,824    | -3.43e-06 | 0.0411 |\n",
            "| txt/BertEncoder_0/encoder_block/layer_sequence/layers_4/attention_block/attention_layer/query/bias    | (768,)           | 768        | 0.00266   | 0.215  |\n",
            "| txt/BertEncoder_0/encoder_block/layer_sequence/layers_4/attention_block/attention_layer/query/kernel  | (768, 768)       | 589,824    | -3.55e-05 | 0.0414 |\n",
            "| txt/BertEncoder_0/encoder_block/layer_sequence/layers_4/attention_block/attention_layer/value/bias    | (768,)           | 768        | -9.8e-05  | 0.0278 |\n",
            "| txt/BertEncoder_0/encoder_block/layer_sequence/layers_4/attention_block/attention_layer/value/kernel  | (768, 768)       | 589,824    | -2.48e-05 | 0.0328 |\n",
            "| txt/BertEncoder_0/encoder_block/layer_sequence/layers_4/attention_block/dense_layer/bias              | (768,)           | 768        | 0.000161  | 0.021  |\n",
            "| txt/BertEncoder_0/encoder_block/layer_sequence/layers_4/attention_block/dense_layer/kernel            | (768, 768)       | 589,824    | -5.22e-06 | 0.0317 |\n",
            "| txt/BertEncoder_0/encoder_block/layer_sequence/layers_4/attention_block/layer_norm/bias               | (768,)           | 768        | -0.0255   | 0.148  |\n",
            "| txt/BertEncoder_0/encoder_block/layer_sequence/layers_4/attention_block/layer_norm/scale              | (768,)           | 768        | 0.87      | 0.186  |\n",
            "| txt/BertEncoder_0/encoder_block/layer_sequence/layers_4/mlp_block/dense_layer/bias                    | (768,)           | 768        | -0.00135  | 0.0519 |\n",
            "| txt/BertEncoder_0/encoder_block/layer_sequence/layers_4/mlp_block/dense_layer/kernel                  | (3072, 768)      | 2,359,296  | -2.25e-05 | 0.0397 |\n",
            "| txt/BertEncoder_0/encoder_block/layer_sequence/layers_4/mlp_block/layer_norm/bias                     | (768,)           | 768        | -0.0268   | 0.0392 |\n",
            "| txt/BertEncoder_0/encoder_block/layer_sequence/layers_4/mlp_block/layer_norm/scale                    | (768,)           | 768        | 0.757     | 0.0459 |\n",
            "| txt/BertEncoder_0/encoder_block/layer_sequence/layers_4/mlp_block/mlp/dense_layer/bias                | (3072,)          | 3,072      | -0.182    | 0.0968 |\n",
            "| txt/BertEncoder_0/encoder_block/layer_sequence/layers_4/mlp_block/mlp/dense_layer/kernel              | (768, 3072)      | 2,359,296  | 0.000773  | 0.0423 |\n",
            "INFO:absl:\n",
            "| txt/BertEncoder_0/encoder_block/layer_sequence/layers_5/attention_block/attention_layer/key/bias      | (768,)           | 768        | 0.000957  | 0.0788 |\n",
            "| txt/BertEncoder_0/encoder_block/layer_sequence/layers_5/attention_block/attention_layer/key/kernel    | (768, 768)       | 589,824    | -0.000109 | 0.0416 |\n",
            "| txt/BertEncoder_0/encoder_block/layer_sequence/layers_5/attention_block/attention_layer/query/bias    | (768,)           | 768        | -0.00894  | 0.199  |\n",
            "| txt/BertEncoder_0/encoder_block/layer_sequence/layers_5/attention_block/attention_layer/query/kernel  | (768, 768)       | 589,824    | 0.000138  | 0.0417 |\n",
            "| txt/BertEncoder_0/encoder_block/layer_sequence/layers_5/attention_block/attention_layer/value/bias    | (768,)           | 768        | 0.000613  | 0.0285 |\n",
            "| txt/BertEncoder_0/encoder_block/layer_sequence/layers_5/attention_block/attention_layer/value/kernel  | (768, 768)       | 589,824    | -8.91e-05 | 0.0347 |\n",
            "| txt/BertEncoder_0/encoder_block/layer_sequence/layers_5/attention_block/dense_layer/bias              | (768,)           | 768        | 0.000115  | 0.019  |\n",
            "| txt/BertEncoder_0/encoder_block/layer_sequence/layers_5/attention_block/dense_layer/kernel            | (768, 768)       | 589,824    | 1.99e-06  | 0.0335 |\n",
            "| txt/BertEncoder_0/encoder_block/layer_sequence/layers_5/attention_block/layer_norm/bias               | (768,)           | 768        | -0.0237   | 0.134  |\n",
            "| txt/BertEncoder_0/encoder_block/layer_sequence/layers_5/attention_block/layer_norm/scale              | (768,)           | 768        | 0.872     | 0.159  |\n",
            "| txt/BertEncoder_0/encoder_block/layer_sequence/layers_5/mlp_block/dense_layer/bias                    | (768,)           | 768        | -0.000342 | 0.053  |\n",
            "| txt/BertEncoder_0/encoder_block/layer_sequence/layers_5/mlp_block/dense_layer/kernel                  | (3072, 768)      | 2,359,296  | -1.83e-05 | 0.0404 |\n",
            "| txt/BertEncoder_0/encoder_block/layer_sequence/layers_5/mlp_block/layer_norm/bias                     | (768,)           | 768        | -0.0257   | 0.0449 |\n",
            "| txt/BertEncoder_0/encoder_block/layer_sequence/layers_5/mlp_block/layer_norm/scale                    | (768,)           | 768        | 0.748     | 0.0402 |\n",
            "| txt/BertEncoder_0/encoder_block/layer_sequence/layers_5/mlp_block/mlp/dense_layer/bias                | (3072,)          | 3,072      | -0.181    | 0.093  |\n",
            "| txt/BertEncoder_0/encoder_block/layer_sequence/layers_5/mlp_block/mlp/dense_layer/kernel              | (768, 3072)      | 2,359,296  | 0.000795  | 0.0425 |\n",
            "| txt/BertEncoder_0/encoder_block/layer_sequence/layers_6/attention_block/attention_layer/key/bias      | (768,)           | 768        | 0.00393   | 0.0801 |\n",
            "| txt/BertEncoder_0/encoder_block/layer_sequence/layers_6/attention_block/attention_layer/key/kernel    | (768, 768)       | 589,824    | -7.02e-05 | 0.0423 |\n",
            "| txt/BertEncoder_0/encoder_block/layer_sequence/layers_6/attention_block/attention_layer/query/bias    | (768,)           | 768        | -0.0112   | 0.209  |\n",
            "| txt/BertEncoder_0/encoder_block/layer_sequence/layers_6/attention_block/attention_layer/query/kernel  | (768, 768)       | 589,824    | 0.000111  | 0.0423 |\n",
            "| txt/BertEncoder_0/encoder_block/layer_sequence/layers_6/attention_block/attention_layer/value/bias    | (768,)           | 768        | 0.000317  | 0.0351 |\n",
            "| txt/BertEncoder_0/encoder_block/layer_sequence/layers_6/attention_block/attention_layer/value/kernel  | (768, 768)       | 589,824    | 5.99e-06  | 0.0351 |\n",
            "| txt/BertEncoder_0/encoder_block/layer_sequence/layers_6/attention_block/dense_layer/bias              | (768,)           | 768        | 0.000102  | 0.0233 |\n",
            "| txt/BertEncoder_0/encoder_block/layer_sequence/layers_6/attention_block/dense_layer/kernel            | (768, 768)       | 589,824    | 1.2e-05   | 0.0342 |\n",
            "| txt/BertEncoder_0/encoder_block/layer_sequence/layers_6/attention_block/layer_norm/bias               | (768,)           | 768        | -0.026    | 0.14   |\n",
            "| txt/BertEncoder_0/encoder_block/layer_sequence/layers_6/attention_block/layer_norm/scale              | (768,)           | 768        | 0.849     | 0.125  |\n",
            "| txt/BertEncoder_0/encoder_block/layer_sequence/layers_6/mlp_block/dense_layer/bias                    | (768,)           | 768        | -0.000724 | 0.0653 |\n",
            "| txt/BertEncoder_0/encoder_block/layer_sequence/layers_6/mlp_block/dense_layer/kernel                  | (3072, 768)      | 2,359,296  | -3.74e-06 | 0.0416 |\n",
            "| txt/BertEncoder_0/encoder_block/layer_sequence/layers_6/mlp_block/layer_norm/bias                     | (768,)           | 768        | -0.0266   | 0.0467 |\n",
            "| txt/BertEncoder_0/encoder_block/layer_sequence/layers_6/mlp_block/layer_norm/scale                    | (768,)           | 768        | 0.771     | 0.0392 |\n",
            "| txt/BertEncoder_0/encoder_block/layer_sequence/layers_6/mlp_block/mlp/dense_layer/bias                | (3072,)          | 3,072      | -0.178    | 0.0903 |\n",
            "| txt/BertEncoder_0/encoder_block/layer_sequence/layers_6/mlp_block/mlp/dense_layer/kernel              | (768, 3072)      | 2,359,296  | 0.000836  | 0.0433 |\n",
            "| txt/BertEncoder_0/encoder_block/layer_sequence/layers_7/attention_block/attention_layer/key/bias      | (768,)           | 768        | 0.00154   | 0.0742 |\n",
            "| txt/BertEncoder_0/encoder_block/layer_sequence/layers_7/attention_block/attention_layer/key/kernel    | (768, 768)       | 589,824    | -3.73e-05 | 0.043  |\n",
            "| txt/BertEncoder_0/encoder_block/layer_sequence/layers_7/attention_block/attention_layer/query/bias    | (768,)           | 768        | -0.0066   | 0.23   |\n",
            "| txt/BertEncoder_0/encoder_block/layer_sequence/layers_7/attention_block/attention_layer/query/kernel  | (768, 768)       | 589,824    | 3.89e-05  | 0.0429 |\n",
            "| txt/BertEncoder_0/encoder_block/layer_sequence/layers_7/attention_block/attention_layer/value/bias    | (768,)           | 768        | -0.00204  | 0.0397 |\n",
            "| txt/BertEncoder_0/encoder_block/layer_sequence/layers_7/attention_block/attention_layer/value/kernel  | (768, 768)       | 589,824    | 2.6e-05   | 0.0357 |\n",
            "| txt/BertEncoder_0/encoder_block/layer_sequence/layers_7/attention_block/dense_layer/bias              | (768,)           | 768        | 0.000126  | 0.0222 |\n",
            "| txt/BertEncoder_0/encoder_block/layer_sequence/layers_7/attention_block/dense_layer/kernel            | (768, 768)       | 589,824    | -3.72e-06 | 0.035  |\n",
            "| txt/BertEncoder_0/encoder_block/layer_sequence/layers_7/attention_block/layer_norm/bias               | (768,)           | 768        | -0.0382   | 0.145  |\n",
            "| txt/BertEncoder_0/encoder_block/layer_sequence/layers_7/attention_block/layer_norm/scale              | (768,)           | 768        | 0.805     | 0.105  |\n",
            "| txt/BertEncoder_0/encoder_block/layer_sequence/layers_7/mlp_block/dense_layer/bias                    | (768,)           | 768        | -0.000484 | 0.0755 |\n",
            "| txt/BertEncoder_0/encoder_block/layer_sequence/layers_7/mlp_block/dense_layer/kernel                  | (3072, 768)      | 2,359,296  | -4.84e-06 | 0.0436 |\n",
            "| txt/BertEncoder_0/encoder_block/layer_sequence/layers_7/mlp_block/layer_norm/bias                     | (768,)           | 768        | -0.0271   | 0.0477 |\n",
            "| txt/BertEncoder_0/encoder_block/layer_sequence/layers_7/mlp_block/layer_norm/scale                    | (768,)           | 768        | 0.787     | 0.0368 |\n",
            "| txt/BertEncoder_0/encoder_block/layer_sequence/layers_7/mlp_block/mlp/dense_layer/bias                | (3072,)          | 3,072      | -0.183    | 0.0784 |\n",
            "| txt/BertEncoder_0/encoder_block/layer_sequence/layers_7/mlp_block/mlp/dense_layer/kernel              | (768, 3072)      | 2,359,296  | 0.00155   | 0.0443 |\n",
            "| txt/BertEncoder_0/encoder_block/layer_sequence/layers_8/attention_block/attention_layer/key/bias      | (768,)           | 768        | -0.00364  | 0.0721 |\n",
            "| txt/BertEncoder_0/encoder_block/layer_sequence/layers_8/attention_block/attention_layer/key/kernel    | (768, 768)       | 589,824    | -8.37e-05 | 0.0435 |\n",
            "| txt/BertEncoder_0/encoder_block/layer_sequence/layers_8/attention_block/attention_layer/query/bias    | (768,)           | 768        | -0.0128   | 0.212  |\n",
            "| txt/BertEncoder_0/encoder_block/layer_sequence/layers_8/attention_block/attention_layer/query/kernel  | (768, 768)       | 589,824    | 0.000144  | 0.044  |\n",
            "| txt/BertEncoder_0/encoder_block/layer_sequence/layers_8/attention_block/attention_layer/value/bias    | (768,)           | 768        | -0.00064  | 0.0414 |\n",
            "| txt/BertEncoder_0/encoder_block/layer_sequence/layers_8/attention_block/attention_layer/value/kernel  | (768, 768)       | 589,824    | 3.29e-05  | 0.036  |\n",
            "| txt/BertEncoder_0/encoder_block/layer_sequence/layers_8/attention_block/dense_layer/bias              | (768,)           | 768        | 0.000144  | 0.0389 |\n",
            "| txt/BertEncoder_0/encoder_block/layer_sequence/layers_8/attention_block/dense_layer/kernel            | (768, 768)       | 589,824    | -1.05e-05 | 0.0366 |\n",
            "| txt/BertEncoder_0/encoder_block/layer_sequence/layers_8/attention_block/layer_norm/bias               | (768,)           | 768        | -0.0412   | 0.159  |\n",
            "| txt/BertEncoder_0/encoder_block/layer_sequence/layers_8/attention_block/layer_norm/scale              | (768,)           | 768        | 0.75      | 0.106  |\n",
            "| txt/BertEncoder_0/encoder_block/layer_sequence/layers_8/mlp_block/dense_layer/bias                    | (768,)           | 768        | -0.000383 | 0.0733 |\n",
            "| txt/BertEncoder_0/encoder_block/layer_sequence/layers_8/mlp_block/dense_layer/kernel                  | (3072, 768)      | 2,359,296  | 2.33e-06  | 0.0465 |\n",
            "| txt/BertEncoder_0/encoder_block/layer_sequence/layers_8/mlp_block/layer_norm/bias                     | (768,)           | 768        | -0.0255   | 0.103  |\n",
            "| txt/BertEncoder_0/encoder_block/layer_sequence/layers_8/mlp_block/layer_norm/scale                    | (768,)           | 768        | 0.782     | 0.0419 |\n",
            "| txt/BertEncoder_0/encoder_block/layer_sequence/layers_8/mlp_block/mlp/dense_layer/bias                | (3072,)          | 3,072      | -0.188    | 0.0604 |\n",
            "| txt/BertEncoder_0/encoder_block/layer_sequence/layers_8/mlp_block/mlp/dense_layer/kernel              | (768, 3072)      | 2,359,296  | 0.00191   | 0.046  |\n",
            "| txt/BertEncoder_0/encoder_block/layer_sequence/layers_9/attention_block/attention_layer/key/bias      | (768,)           | 768        | 0.00177   | 0.0769 |\n",
            "| txt/BertEncoder_0/encoder_block/layer_sequence/layers_9/attention_block/attention_layer/key/kernel    | (768, 768)       | 589,824    | -2.25e-05 | 0.0445 |\n",
            "| txt/BertEncoder_0/encoder_block/layer_sequence/layers_9/attention_block/attention_layer/query/bias    | (768,)           | 768        | 0.00698   | 0.221  |\n",
            "| txt/BertEncoder_0/encoder_block/layer_sequence/layers_9/attention_block/attention_layer/query/kernel  | (768, 768)       | 589,824    | -9.69e-05 | 0.0451 |\n",
            "| txt/BertEncoder_0/encoder_block/layer_sequence/layers_9/attention_block/attention_layer/value/bias    | (768,)           | 768        | -0.000478 | 0.0379 |\n",
            "| txt/BertEncoder_0/encoder_block/layer_sequence/layers_9/attention_block/attention_layer/value/kernel  | (768, 768)       | 589,824    | 9.23e-06  | 0.0272 |\n",
            "| txt/BertEncoder_0/encoder_block/layer_sequence/layers_9/attention_block/dense_layer/bias              | (768,)           | 768        | 0.000851  | 0.0372 |\n",
            "| txt/BertEncoder_0/encoder_block/layer_sequence/layers_9/attention_block/dense_layer/kernel            | (768, 768)       | 589,824    | 6.89e-06  | 0.0278 |\n",
            "| txt/BertEncoder_0/encoder_block/layer_sequence/layers_9/attention_block/layer_norm/bias               | (768,)           | 768        | -0.0508   | 0.206  |\n",
            "| txt/BertEncoder_0/encoder_block/layer_sequence/layers_9/attention_block/layer_norm/scale              | (768,)           | 768        | 0.66      | 0.0814 |\n",
            "| txt/BertEncoder_0/encoder_block/layer_sequence/layers_9/mlp_block/dense_layer/bias                    | (768,)           | 768        | -0.00159  | 0.1    |\n",
            "| txt/BertEncoder_0/encoder_block/layer_sequence/layers_9/mlp_block/dense_layer/kernel                  | (3072, 768)      | 2,359,296  | 3.22e-05  | 0.0476 |\n",
            "| txt/BertEncoder_0/encoder_block/layer_sequence/layers_9/mlp_block/layer_norm/bias                     | (768,)           | 768        | -0.0281   | 0.0884 |\n",
            "| txt/BertEncoder_0/encoder_block/layer_sequence/layers_9/mlp_block/layer_norm/scale                    | (768,)           | 768        | 0.782     | 0.0604 |\n",
            "| txt/BertEncoder_0/encoder_block/layer_sequence/layers_9/mlp_block/mlp/dense_layer/bias                | (3072,)          | 3,072      | -0.202    | 0.0655 |\n",
            "| txt/BertEncoder_0/encoder_block/layer_sequence/layers_9/mlp_block/mlp/dense_layer/kernel              | (768, 3072)      | 2,359,296  | 0.00262   | 0.0463 |\n",
            "INFO:absl:\n",
            "| txt/BertEncoder_0/layer_norm/bias                                                                     | (768,)           | 768        | -0.0183   | 0.0679 |\n",
            "| txt/BertEncoder_0/layer_norm/scale                                                                    | (768,)           | 768        | 0.836     | 0.125  |\n",
            "| txt/head/bias                                                                                         | (768,)           | 768        | -0.0015   | 0.0879 |\n",
            "| txt/head/kernel                                                                                       | (768, 768)       | 589,824    | 7.58e-05  | 0.0409 |\n",
            "+-------------------------------------------------------------------------------------------------------+------------------+------------+-----------+--------+\n",
            "Total: 195,870,721\n",
            "INFO:absl:NOTE: Replicating...\n",
            "INFO:absl:NOTE: Initializing evaluator: disclf...\n",
            "INFO:absl:Using 81 prompts_templates: ['a bad photo of a {}', 'a photo of many {}', 'a sculpture of a {}', 'a photo of the hard to see {}', 'a low resolution photo of the {}', 'a rendering of a {}', 'graffiti of a {}', 'a bad photo of the {}', 'a cropped photo of the {}', 'a tattoo of a {}', 'the embroidered {}', 'a photo of a hard to see {}', 'a bright photo of a {}', 'a photo of a clean {}', 'a photo of a dirty {}', 'a dark photo of the {}', 'a drawing of a {}', 'a photo of my {}', 'the plastic {}', 'a photo of the cool {}', 'a closeup photo of a {}', 'a black and white photo of the {}', 'a painting of the {}', 'a painting of a {}', 'a pixelated photo of the {}', 'a sculpture of the {}', 'a bright photo of the {}', 'a cropped photo of a {}', 'a plastic {}', 'a photo of the dirty {}', 'a jpeg corrupted photo of a {}', 'a blurry photo of the {}', 'a photo of the {}', 'a good photo of the {}', 'a rendering of the {}', 'a {} in a video game', 'a photo of one {}', 'a doodle of a {}', 'a closeup photo of the {}', 'a photo of a {}', 'the origami {}', 'the {} in a video game', 'a sketch of a {}', 'a doodle of the {}', 'a origami {}', 'a low resolution photo of a {}', 'the toy {}', 'a rendition of the {}', 'a photo of the clean {}', 'a photo of a large {}', 'a rendition of a {}', 'a photo of a nice {}', 'a photo of a weird {}', 'a blurry photo of a {}', 'a cartoon {}', 'art of a {}', 'a sketch of the {}', 'a embroidered {}', 'a pixelated photo of a {}', 'itap of the {}', 'a jpeg corrupted photo of the {}', 'a good photo of a {}', 'a plushie {}', 'a photo of the nice {}', 'a photo of the small {}', 'a photo of the weird {}', 'the cartoon {}', 'art of the {}', 'a drawing of the {}', 'a photo of the large {}', 'a black and white photo of a {}', 'the plushie {}', 'a dark photo of a {}', 'itap of a {}', 'graffiti of the {}', 'a toy {}', 'itap of my {}', 'a photo of a cool {}', 'a photo of a small {}', 'a tattoo of the {}', '{}']\n",
            "INFO:absl:Load dataset info from /root/tensorflow_datasets/oxford_iiit_pet/3.2.0\n",
            "INFO:absl:Using 37 class_names: ['abyssinian', 'american bulldog', 'american pit bull terrier', 'basset hound', 'beagle', 'bengal', 'birman', 'bombay', 'boxer', 'british shorthair', 'chihuahua', 'egyptian mau', 'english cocker spaniel', 'english setter', 'german shorthaired', 'great pyrenees', 'havanese', 'japanese chin', 'keeshond', 'leonberger', 'maine coon', 'miniature pinscher', 'newfoundland', 'persian', 'pomeranian', 'pug', 'ragdoll', 'russian blue', 'saint bernard', 'samoyed', 'scottish terrier', 'shiba inu', 'siamese', 'sphynx', 'staffordshire bull terrier', 'wheaten terrier', 'yorkshire terrier']\n",
            "INFO:absl:Load dataset info from /root/tensorflow_datasets/oxford_iiit_pet/3.2.0\n",
            "INFO:absl:Constructing tf.data.Dataset oxford_iiit_pet for split _EvenSplit(split='test', index=0, count=1, drop_remainder=False), from /root/tensorflow_datasets/oxford_iiit_pet/3.2.0\n",
            "INFO:absl:Data before pre-processing:\n",
            "{'file_name': \u003ctf.Tensor 'args_0:0' shape=() dtype=string\u003e, 'image': \u003ctf.Tensor 'args_1:0' shape=(None, None, 3) dtype=uint8\u003e, 'label': \u003ctf.Tensor 'args_2:0' shape=() dtype=int64\u003e, 'segmentation_mask': \u003ctf.Tensor 'args_3:0' shape=(None, None, 1) dtype=uint8\u003e, 'species': \u003ctf.Tensor 'args_4:0' shape=() dtype=int64\u003e}\n"
          ]
        },
        {
          "output_type": "stream",
          "name": "stdout",
          "text": [
            "\n"
          ]
        },
        {
          "output_type": "stream",
          "name": "stderr",
          "text": [
            "INFO:absl:Data after pre-processing:\n",
            "{'image': \u003ctf.Tensor 'add:0' shape=(224, 224, 3) dtype=float32\u003e, 'label': \u003ctf.Tensor 'args_2:0' shape=() dtype=int64\u003e}\n",
            "INFO:absl:Data before pre-processing:\n",
            "{'label': \u003ctf.Tensor 'args_0:0' shape=() dtype=int64\u003e, 'texts': \u003ctf.Tensor 'args_1:0' shape=() dtype=string\u003e}\n",
            "INFO:absl:Data after pre-processing:\n",
            "{'label': \u003ctf.Tensor 'args_0:0' shape=() dtype=int64\u003e, 'labels': \u003ctf.Tensor 'strided_slice_4:0' shape=(16,) dtype=int32\u003e}\n",
            "WARNING:tensorflow:From /usr/local/lib/python3.9/dist-packages/tensorflow/python/autograph/pyct/static_analysis/liveness.py:83: Analyzer.lamba_check (from tensorflow.python.autograph.pyct.static_analysis.liveness) is deprecated and will be removed after 2023-09-23.\n",
            "Instructions for updating:\n",
            "Lambda fuctions will be no more assumed to be used in the statement where they are used, or at least in the same block. https://github.com/tensorflow/tensorflow/issues/56089\n",
            "INFO:absl:Initialized evaluator in 3.0 seconds\n",
            "INFO:absl:NOTE: disclf evaluation step 0...\n",
            "INFO:absl:Starting text embedding...\n",
            "INFO:absl:Compiled text embeddings in 7.6s\n",
            "INFO:absl:Embedded oxford_iiit_pet text in 7 steps - ...[512 512 512 512 512 437   0]\n",
            "INFO:absl:Totalling 2997 text in 2.6s\n",
            "INFO:absl:Total texts embeddings size 9.2M\n",
            "INFO:absl:Starting image embedding...\n",
            "INFO:absl:Compiled image embeddings in 17.5s\n",
            "INFO:absl:Embedded oxford_iiit_pet image in 9 steps - ...[512 512 512 512 512 512 512  85   0]\n",
            "INFO:absl:Totalling 3669 image in 46.1s\n",
            "INFO:absl:Dataset oxford_iiit_pet, results {'accuracy': 0.8103025347506132, 'correct': 2973, 'count': 3669}\n",
            "INFO:absl:\u001b[35m[0]\u001b[0m z/0shot/oxford_iiit_pet_accuracy = 0.8103025347506132\n",
            "INFO:absl:\u001b[35m[0]\u001b[0m z/secs/eval/disclf = 73.91012993699997\n",
            "INFO:absl:TIMING[z/secs/eval/disclf]: 73.91012993699997\n",
            "INFO:absl:NOTE: Done!\n"
          ]
        }
      ],
      "source": [
        "# Should run in ~5 minutes on a T4 GPU...\n",
        "set_max_height(444)\n",
        "eval_only.main([])"
      ]
    },
    {
      "cell_type": "code",
      "source": [
        "# ... and yield a final 81% accuracy.\n",
        "import json\n",
        "json.loads(open(flags.FLAGS.workdir + '/big_vision_metrics.txt').readline())"
      ],
      "metadata": {
        "id": "J14NHGBAGXYp",
        "colab": {
          "base_uri": "https://localhost:8080/"
        },
        "outputId": "0d5af276-a60f-44cd-c25f-0bf54f0e7a93"
      },
      "execution_count": 26,
      "outputs": [
        {
          "output_type": "execute_result",
          "data": {
            "text/plain": [
              "{'step': 0,\n",
              " 'z/0shot/oxford_iiit_pet_accuracy': 0.8103025347506132,\n",
              " 'z/secs/eval/disclf': 73.91012993699997}"
            ]
          },
          "metadata": {},
          "execution_count": 26
        }
      ]
    }
  ],
  "metadata": {
    "accelerator": "GPU",
    "colab": {
      "name": "lit OSS",
      "provenance": []
    },
    "gpuClass": "standard",
    "kernelspec": {
      "display_name": "Python 3",
      "name": "python3"
    },
    "language_info": {
      "name": "python"
    }
  },
  "nbformat": 4,
  "nbformat_minor": 0
}
